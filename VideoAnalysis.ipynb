{
  "nbformat": 4,
  "nbformat_minor": 0,
  "metadata": {
    "colab": {
      "provenance": []
    },
    "kernelspec": {
      "name": "python3",
      "display_name": "Python 3"
    },
    "language_info": {
      "name": "python"
    }
  },
  "cells": [
    {
      "cell_type": "code",
      "source": [
        "from google.colab import drive\n",
        "drive.mount('/content/drive')"
      ],
      "metadata": {
        "colab": {
          "base_uri": "https://localhost:8080/"
        },
        "id": "jmXAbt6IYdH6",
        "outputId": "e79c8a3f-07a9-4ff6-a65c-fcd2f584d3cf"
      },
      "execution_count": 10,
      "outputs": [
        {
          "output_type": "stream",
          "name": "stdout",
          "text": [
            "Drive already mounted at /content/drive; to attempt to forcibly remount, call drive.mount(\"/content/drive\", force_remount=True).\n"
          ]
        }
      ]
    },
    {
      "cell_type": "code",
      "source": [
        "!pip install imageio-ffmpeg\n",
        "!pip install moviepy\n",
        "!pip install pydub\n",
        "!pip install speechrecognition\n",
        "!pip install spacy"
      ],
      "metadata": {
        "colab": {
          "base_uri": "https://localhost:8080/"
        },
        "id": "MsTcPn1pxhB5",
        "outputId": "5f7e99f6-a3a5-42c1-db23-e2128d302437"
      },
      "execution_count": 1,
      "outputs": [
        {
          "output_type": "stream",
          "name": "stdout",
          "text": [
            "Looking in indexes: https://pypi.org/simple, https://us-python.pkg.dev/colab-wheels/public/simple/\n",
            "Requirement already satisfied: imageio-ffmpeg in /usr/local/lib/python3.9/dist-packages (0.4.8)\n",
            "Looking in indexes: https://pypi.org/simple, https://us-python.pkg.dev/colab-wheels/public/simple/\n",
            "Requirement already satisfied: moviepy in /usr/local/lib/python3.9/dist-packages (1.0.3)\n",
            "Requirement already satisfied: imageio<3.0,>=2.5 in /usr/local/lib/python3.9/dist-packages (from moviepy) (2.25.1)\n",
            "Requirement already satisfied: numpy in /usr/local/lib/python3.9/dist-packages (from moviepy) (1.22.4)\n",
            "Requirement already satisfied: imageio-ffmpeg>=0.2.0 in /usr/local/lib/python3.9/dist-packages (from moviepy) (0.4.8)\n",
            "Requirement already satisfied: requests<3.0,>=2.8.1 in /usr/local/lib/python3.9/dist-packages (from moviepy) (2.27.1)\n",
            "Requirement already satisfied: proglog<=1.0.0 in /usr/local/lib/python3.9/dist-packages (from moviepy) (0.1.10)\n",
            "Requirement already satisfied: decorator<5.0,>=4.0.2 in /usr/local/lib/python3.9/dist-packages (from moviepy) (4.4.2)\n",
            "Requirement already satisfied: tqdm<5.0,>=4.11.2 in /usr/local/lib/python3.9/dist-packages (from moviepy) (4.65.0)\n",
            "Requirement already satisfied: pillow>=8.3.2 in /usr/local/lib/python3.9/dist-packages (from imageio<3.0,>=2.5->moviepy) (8.4.0)\n",
            "Requirement already satisfied: idna<4,>=2.5 in /usr/local/lib/python3.9/dist-packages (from requests<3.0,>=2.8.1->moviepy) (3.4)\n",
            "Requirement already satisfied: charset-normalizer~=2.0.0 in /usr/local/lib/python3.9/dist-packages (from requests<3.0,>=2.8.1->moviepy) (2.0.12)\n",
            "Requirement already satisfied: urllib3<1.27,>=1.21.1 in /usr/local/lib/python3.9/dist-packages (from requests<3.0,>=2.8.1->moviepy) (1.26.15)\n",
            "Requirement already satisfied: certifi>=2017.4.17 in /usr/local/lib/python3.9/dist-packages (from requests<3.0,>=2.8.1->moviepy) (2022.12.7)\n",
            "Looking in indexes: https://pypi.org/simple, https://us-python.pkg.dev/colab-wheels/public/simple/\n",
            "Collecting pydub\n",
            "  Downloading pydub-0.25.1-py2.py3-none-any.whl (32 kB)\n",
            "Installing collected packages: pydub\n",
            "Successfully installed pydub-0.25.1\n",
            "Looking in indexes: https://pypi.org/simple, https://us-python.pkg.dev/colab-wheels/public/simple/\n",
            "Collecting speechrecognition\n",
            "  Downloading SpeechRecognition-3.10.0-py2.py3-none-any.whl (32.8 MB)\n",
            "\u001b[2K     \u001b[90m━━━━━━━━━━━━━━━━━━━━━━━━━━━━━━━━━━━━━━━━\u001b[0m \u001b[32m32.8/32.8 MB\u001b[0m \u001b[31m24.1 MB/s\u001b[0m eta \u001b[36m0:00:00\u001b[0m\n",
            "\u001b[?25hRequirement already satisfied: requests>=2.26.0 in /usr/local/lib/python3.9/dist-packages (from speechrecognition) (2.27.1)\n",
            "Requirement already satisfied: idna<4,>=2.5 in /usr/local/lib/python3.9/dist-packages (from requests>=2.26.0->speechrecognition) (3.4)\n",
            "Requirement already satisfied: certifi>=2017.4.17 in /usr/local/lib/python3.9/dist-packages (from requests>=2.26.0->speechrecognition) (2022.12.7)\n",
            "Requirement already satisfied: charset-normalizer~=2.0.0 in /usr/local/lib/python3.9/dist-packages (from requests>=2.26.0->speechrecognition) (2.0.12)\n",
            "Requirement already satisfied: urllib3<1.27,>=1.21.1 in /usr/local/lib/python3.9/dist-packages (from requests>=2.26.0->speechrecognition) (1.26.15)\n",
            "Installing collected packages: speechrecognition\n",
            "Successfully installed speechrecognition-3.10.0\n",
            "Looking in indexes: https://pypi.org/simple, https://us-python.pkg.dev/colab-wheels/public/simple/\n",
            "Requirement already satisfied: spacy in /usr/local/lib/python3.9/dist-packages (3.5.1)\n",
            "Requirement already satisfied: packaging>=20.0 in /usr/local/lib/python3.9/dist-packages (from spacy) (23.0)\n",
            "Requirement already satisfied: jinja2 in /usr/local/lib/python3.9/dist-packages (from spacy) (3.1.2)\n",
            "Requirement already satisfied: requests<3.0.0,>=2.13.0 in /usr/local/lib/python3.9/dist-packages (from spacy) (2.27.1)\n",
            "Requirement already satisfied: pydantic!=1.8,!=1.8.1,<1.11.0,>=1.7.4 in /usr/local/lib/python3.9/dist-packages (from spacy) (1.10.7)\n",
            "Requirement already satisfied: thinc<8.2.0,>=8.1.8 in /usr/local/lib/python3.9/dist-packages (from spacy) (8.1.9)\n",
            "Requirement already satisfied: pathy>=0.10.0 in /usr/local/lib/python3.9/dist-packages (from spacy) (0.10.1)\n",
            "Requirement already satisfied: srsly<3.0.0,>=2.4.3 in /usr/local/lib/python3.9/dist-packages (from spacy) (2.4.6)\n",
            "Requirement already satisfied: spacy-loggers<2.0.0,>=1.0.0 in /usr/local/lib/python3.9/dist-packages (from spacy) (1.0.4)\n",
            "Requirement already satisfied: catalogue<2.1.0,>=2.0.6 in /usr/local/lib/python3.9/dist-packages (from spacy) (2.0.8)\n",
            "Requirement already satisfied: langcodes<4.0.0,>=3.2.0 in /usr/local/lib/python3.9/dist-packages (from spacy) (3.3.0)\n",
            "Requirement already satisfied: typer<0.8.0,>=0.3.0 in /usr/local/lib/python3.9/dist-packages (from spacy) (0.7.0)\n",
            "Requirement already satisfied: wasabi<1.2.0,>=0.9.1 in /usr/local/lib/python3.9/dist-packages (from spacy) (1.1.1)\n",
            "Requirement already satisfied: numpy>=1.15.0 in /usr/local/lib/python3.9/dist-packages (from spacy) (1.22.4)\n",
            "Requirement already satisfied: spacy-legacy<3.1.0,>=3.0.11 in /usr/local/lib/python3.9/dist-packages (from spacy) (3.0.12)\n",
            "Requirement already satisfied: murmurhash<1.1.0,>=0.28.0 in /usr/local/lib/python3.9/dist-packages (from spacy) (1.0.9)\n",
            "Requirement already satisfied: preshed<3.1.0,>=3.0.2 in /usr/local/lib/python3.9/dist-packages (from spacy) (3.0.8)\n",
            "Requirement already satisfied: setuptools in /usr/local/lib/python3.9/dist-packages (from spacy) (67.6.1)\n",
            "Requirement already satisfied: tqdm<5.0.0,>=4.38.0 in /usr/local/lib/python3.9/dist-packages (from spacy) (4.65.0)\n",
            "Requirement already satisfied: smart-open<7.0.0,>=5.2.1 in /usr/local/lib/python3.9/dist-packages (from spacy) (6.3.0)\n",
            "Requirement already satisfied: cymem<2.1.0,>=2.0.2 in /usr/local/lib/python3.9/dist-packages (from spacy) (2.0.7)\n",
            "Requirement already satisfied: typing-extensions>=4.2.0 in /usr/local/lib/python3.9/dist-packages (from pydantic!=1.8,!=1.8.1,<1.11.0,>=1.7.4->spacy) (4.5.0)\n",
            "Requirement already satisfied: urllib3<1.27,>=1.21.1 in /usr/local/lib/python3.9/dist-packages (from requests<3.0.0,>=2.13.0->spacy) (1.26.15)\n",
            "Requirement already satisfied: idna<4,>=2.5 in /usr/local/lib/python3.9/dist-packages (from requests<3.0.0,>=2.13.0->spacy) (3.4)\n",
            "Requirement already satisfied: certifi>=2017.4.17 in /usr/local/lib/python3.9/dist-packages (from requests<3.0.0,>=2.13.0->spacy) (2022.12.7)\n",
            "Requirement already satisfied: charset-normalizer~=2.0.0 in /usr/local/lib/python3.9/dist-packages (from requests<3.0.0,>=2.13.0->spacy) (2.0.12)\n",
            "Requirement already satisfied: confection<1.0.0,>=0.0.1 in /usr/local/lib/python3.9/dist-packages (from thinc<8.2.0,>=8.1.8->spacy) (0.0.4)\n",
            "Requirement already satisfied: blis<0.8.0,>=0.7.8 in /usr/local/lib/python3.9/dist-packages (from thinc<8.2.0,>=8.1.8->spacy) (0.7.9)\n",
            "Requirement already satisfied: click<9.0.0,>=7.1.1 in /usr/local/lib/python3.9/dist-packages (from typer<0.8.0,>=0.3.0->spacy) (8.1.3)\n",
            "Requirement already satisfied: MarkupSafe>=2.0 in /usr/local/lib/python3.9/dist-packages (from jinja2->spacy) (2.1.2)\n"
          ]
        }
      ]
    },
    {
      "cell_type": "code",
      "source": [
        "pip install imageio-ffmpeg"
      ],
      "metadata": {
        "colab": {
          "base_uri": "https://localhost:8080/"
        },
        "id": "9yghTX-wmGG2",
        "outputId": "82dd3715-e85f-42df-853a-6d73dbdac3b7"
      },
      "execution_count": 2,
      "outputs": [
        {
          "output_type": "stream",
          "name": "stdout",
          "text": [
            "Looking in indexes: https://pypi.org/simple, https://us-python.pkg.dev/colab-wheels/public/simple/\n",
            "Requirement already satisfied: imageio-ffmpeg in /usr/local/lib/python3.9/dist-packages (0.4.8)\n"
          ]
        }
      ]
    },
    {
      "cell_type": "code",
      "source": [
        "!pip uninstall moviepy\n",
        "!pip uninstall imageio-ffmpeg\n",
        "!pip install imageio-ffmpeg\n",
        "!pip install moviepy"
      ],
      "metadata": {
        "colab": {
          "base_uri": "https://localhost:8080/"
        },
        "id": "biLe0VpumWJ0",
        "outputId": "73fe9cc1-7eea-496f-ee8e-1b0f44a913e5"
      },
      "execution_count": 3,
      "outputs": [
        {
          "output_type": "stream",
          "name": "stdout",
          "text": [
            "Found existing installation: moviepy 1.0.3\n",
            "Uninstalling moviepy-1.0.3:\n",
            "  Would remove:\n",
            "    /usr/local/lib/python3.9/dist-packages/moviepy-1.0.3.dist-info/*\n",
            "    /usr/local/lib/python3.9/dist-packages/moviepy/*\n",
            "Proceed (Y/n)? y\n",
            "  Successfully uninstalled moviepy-1.0.3\n",
            "Found existing installation: imageio-ffmpeg 0.4.8\n",
            "Uninstalling imageio-ffmpeg-0.4.8:\n",
            "  Would remove:\n",
            "    /usr/local/lib/python3.9/dist-packages/imageio_ffmpeg-0.4.8.dist-info/*\n",
            "    /usr/local/lib/python3.9/dist-packages/imageio_ffmpeg/*\n",
            "Proceed (Y/n)? y\n",
            "  Successfully uninstalled imageio-ffmpeg-0.4.8\n",
            "Looking in indexes: https://pypi.org/simple, https://us-python.pkg.dev/colab-wheels/public/simple/\n",
            "Collecting imageio-ffmpeg\n",
            "  Downloading imageio_ffmpeg-0.4.8-py3-none-manylinux2010_x86_64.whl (26.9 MB)\n",
            "\u001b[2K     \u001b[90m━━━━━━━━━━━━━━━━━━━━━━━━━━━━━━━━━━━━━━━━\u001b[0m \u001b[32m26.9/26.9 MB\u001b[0m \u001b[31m50.9 MB/s\u001b[0m eta \u001b[36m0:00:00\u001b[0m\n",
            "\u001b[?25hInstalling collected packages: imageio-ffmpeg\n",
            "Successfully installed imageio-ffmpeg-0.4.8\n",
            "Looking in indexes: https://pypi.org/simple, https://us-python.pkg.dev/colab-wheels/public/simple/\n",
            "Collecting moviepy\n",
            "  Downloading moviepy-1.0.3.tar.gz (388 kB)\n",
            "\u001b[2K     \u001b[90m━━━━━━━━━━━━━━━━━━━━━━━━━━━━━━━━━━━━━━\u001b[0m \u001b[32m388.3/388.3 kB\u001b[0m \u001b[31m16.0 MB/s\u001b[0m eta \u001b[36m0:00:00\u001b[0m\n",
            "\u001b[?25h  Preparing metadata (setup.py) ... \u001b[?25l\u001b[?25hdone\n",
            "Requirement already satisfied: decorator<5.0,>=4.0.2 in /usr/local/lib/python3.9/dist-packages (from moviepy) (4.4.2)\n",
            "Requirement already satisfied: tqdm<5.0,>=4.11.2 in /usr/local/lib/python3.9/dist-packages (from moviepy) (4.65.0)\n",
            "Requirement already satisfied: requests<3.0,>=2.8.1 in /usr/local/lib/python3.9/dist-packages (from moviepy) (2.27.1)\n",
            "Requirement already satisfied: proglog<=1.0.0 in /usr/local/lib/python3.9/dist-packages (from moviepy) (0.1.10)\n",
            "Requirement already satisfied: numpy>=1.17.3 in /usr/local/lib/python3.9/dist-packages (from moviepy) (1.22.4)\n",
            "Requirement already satisfied: imageio<3.0,>=2.5 in /usr/local/lib/python3.9/dist-packages (from moviepy) (2.25.1)\n",
            "Requirement already satisfied: imageio_ffmpeg>=0.2.0 in /usr/local/lib/python3.9/dist-packages (from moviepy) (0.4.8)\n",
            "Requirement already satisfied: pillow>=8.3.2 in /usr/local/lib/python3.9/dist-packages (from imageio<3.0,>=2.5->moviepy) (8.4.0)\n",
            "Requirement already satisfied: certifi>=2017.4.17 in /usr/local/lib/python3.9/dist-packages (from requests<3.0,>=2.8.1->moviepy) (2022.12.7)\n",
            "Requirement already satisfied: charset-normalizer~=2.0.0 in /usr/local/lib/python3.9/dist-packages (from requests<3.0,>=2.8.1->moviepy) (2.0.12)\n",
            "Requirement already satisfied: urllib3<1.27,>=1.21.1 in /usr/local/lib/python3.9/dist-packages (from requests<3.0,>=2.8.1->moviepy) (1.26.15)\n",
            "Requirement already satisfied: idna<4,>=2.5 in /usr/local/lib/python3.9/dist-packages (from requests<3.0,>=2.8.1->moviepy) (3.4)\n",
            "Building wheels for collected packages: moviepy\n",
            "  Building wheel for moviepy (setup.py) ... \u001b[?25l\u001b[?25hdone\n",
            "  Created wheel for moviepy: filename=moviepy-1.0.3-py3-none-any.whl size=110743 sha256=bc47cdb0a9ece4dd1fb3c7e7c9bc59a8c18ba9fd685c497ec613c19edb841632\n",
            "  Stored in directory: /root/.cache/pip/wheels/29/15/e4/4f790bec6acd51a00b67e8ee1394f0bc6e0135c315f8ff399a\n",
            "Successfully built moviepy\n",
            "Installing collected packages: moviepy\n",
            "Successfully installed moviepy-1.0.3\n"
          ]
        }
      ]
    },
    {
      "cell_type": "code",
      "source": [
        "!pip install SpeechRecognition "
      ],
      "metadata": {
        "colab": {
          "base_uri": "https://localhost:8080/"
        },
        "id": "RjNUk86AkghH",
        "outputId": "6017b259-5043-45bd-d663-5d5442599e7e"
      },
      "execution_count": 4,
      "outputs": [
        {
          "output_type": "stream",
          "name": "stdout",
          "text": [
            "Looking in indexes: https://pypi.org/simple, https://us-python.pkg.dev/colab-wheels/public/simple/\n",
            "Requirement already satisfied: SpeechRecognition in /usr/local/lib/python3.9/dist-packages (3.10.0)\n",
            "Requirement already satisfied: requests>=2.26.0 in /usr/local/lib/python3.9/dist-packages (from SpeechRecognition) (2.27.1)\n",
            "Requirement already satisfied: certifi>=2017.4.17 in /usr/local/lib/python3.9/dist-packages (from requests>=2.26.0->SpeechRecognition) (2022.12.7)\n",
            "Requirement already satisfied: charset-normalizer~=2.0.0 in /usr/local/lib/python3.9/dist-packages (from requests>=2.26.0->SpeechRecognition) (2.0.12)\n",
            "Requirement already satisfied: urllib3<1.27,>=1.21.1 in /usr/local/lib/python3.9/dist-packages (from requests>=2.26.0->SpeechRecognition) (1.26.15)\n",
            "Requirement already satisfied: idna<4,>=2.5 in /usr/local/lib/python3.9/dist-packages (from requests>=2.26.0->SpeechRecognition) (3.4)\n"
          ]
        }
      ]
    },
    {
      "cell_type": "code",
      "source": [
        "!pip install pydub"
      ],
      "metadata": {
        "colab": {
          "base_uri": "https://localhost:8080/"
        },
        "id": "7UcxziuLkx67",
        "outputId": "db121723-f2a0-449d-be9e-f868deb04b69"
      },
      "execution_count": 5,
      "outputs": [
        {
          "output_type": "stream",
          "name": "stdout",
          "text": [
            "Looking in indexes: https://pypi.org/simple, https://us-python.pkg.dev/colab-wheels/public/simple/\n",
            "Requirement already satisfied: pydub in /usr/local/lib/python3.9/dist-packages (0.25.1)\n"
          ]
        }
      ]
    },
    {
      "cell_type": "code",
      "source": [
        "import os\n",
        "import moviepy.editor as mp\n",
        "import speech_recognition as sr \n",
        "from pydub import AudioSegment\n",
        "from pydub.silence import split_on_silence\n",
        "import spacy\n",
        "from spacy.lang.en.stop_words import STOP_WORDS\n",
        "from string import punctuation\n",
        "from heapq import nlargest\n",
        "import datetime"
      ],
      "metadata": {
        "id": "RDokq2LyzFqD"
      },
      "execution_count": 6,
      "outputs": []
    },
    {
      "cell_type": "code",
      "source": [
        "# Load the English language model\n",
        "nlp = spacy.load('en_core_web_sm')"
      ],
      "metadata": {
        "id": "r32AgGuOzJJd"
      },
      "execution_count": 7,
      "outputs": []
    },
    {
      "cell_type": "code",
      "source": [
        "# Define a function to transcribe a large audio file\n",
        "def get_large_audio_transcription(path):\n",
        "    # Load the audio file\n",
        "    sound = AudioSegment.from_file(path, format=\"mp4\")\n",
        "    sound.export(\"/content/drive/MyDrive/PROJECTS/video analysis/audio.wav\", format=\"wav\")\n",
        "    audio = AudioSegment.from_wav(\"/content/drive/MyDrive/PROJECTS/video analysis/audio.wav\")\n",
        "\n",
        "    # Split the audio into chunks based on silence\n",
        "    chunks = split_on_silence(audio,\n",
        "        min_silence_len=500,\n",
        "        silence_thresh=audio.dBFS-14,\n",
        "        keep_silence=500,\n",
        "    )\n",
        "    r = sr.Recognizer()\n",
        "\n",
        "    # Create a directory to store the audio chunks\n",
        "    folder_name = \"audio-chunks\"\n",
        "    if not os.path.isdir(folder_name):\n",
        "        os.mkdir(folder_name)\n",
        "\n",
        "    # Transcribe each chunk using Google Speech Recognition\n",
        "    transcript = \"\"\n",
        "    for i, audio_chunk in enumerate(chunks, start=1):\n",
        "        chunk_filename = os.path.join(folder_name, f\"chunk{i}.wav\")\n",
        "        audio_chunk.export(chunk_filename, format=\"wav\")\n",
        "        with sr.AudioFile(chunk_filename) as source:\n",
        "            audio_listened = r.record(source)\n",
        "            try:\n",
        "                text = r.recognize_google(audio_listened)\n",
        "            except sr.UnknownValueError as e:\n",
        "                print(\"Error:\", str(e))\n",
        "            else:\n",
        "                text = f\"{text.capitalize()}. \"\n",
        "                transcript += text\n",
        "\n",
        "    return transcript"
      ],
      "metadata": {
        "id": "aJB-novyzOEC"
      },
      "execution_count": 8,
      "outputs": []
    },
    {
      "cell_type": "code",
      "source": [
        "# Generate the transcript\n",
        "transcript = get_large_audio_transcription(\"/content/drive/MyDrive/PROJECTS/video analysis/plate-tectonics-and-california-geology-y2bs.com.mp4\")"
      ],
      "metadata": {
        "colab": {
          "base_uri": "https://localhost:8080/"
        },
        "id": "EUrldCBM0BwW",
        "outputId": "3bef5db1-e328-4d1c-f000-dbad199b8f1a"
      },
      "execution_count": 11,
      "outputs": [
        {
          "output_type": "stream",
          "name": "stdout",
          "text": [
            "Error: \n"
          ]
        }
      ]
    },
    {
      "cell_type": "code",
      "source": [
        "with open(\"/content/drive/MyDrive/PROJECTS/video analysis/transcript.txt\", \"w\") as f:\n",
        "    f.write(transcript)\n",
        "\n"
      ],
      "metadata": {
        "id": "yDKM1epdBf49"
      },
      "execution_count": 12,
      "outputs": []
    },
    {
      "cell_type": "code",
      "source": [
        "print(transcript)"
      ],
      "metadata": {
        "colab": {
          "base_uri": "https://localhost:8080/"
        },
        "id": "tAlpckcNucWW",
        "outputId": "d22a19b0-6875-4054-f767-e08e39a0b6c9"
      },
      "execution_count": 13,
      "outputs": [
        {
          "output_type": "stream",
          "name": "stdout",
          "text": [
            "So now that we have the basics down for plate tectonics. What it is how it works and how we know about it so what. How does plate tectonics affect life in california or anywhere else for that matter. To answer that let's look at california's current plate tectonic setting. As this map shows we have a number of plate boundaries within or near the state. Notice at the northern part of california we have a divergent plate boundary or an offshore seafloor spreading center where new oceanic crust forms and then is pushed away. Here along the coast that crust collides with and then sinks under northern california. That produces a convergent plate boundary. Where plate with an oceanic crust leading edge collides with a plate with continental crust on the edge. Result. Subduction. A trench earthquakes and inland an active chain of volcanoes. This volcanic chain is known as the cascade mountains. And in california is expressed with the active volcanoes of mount lassen and mount shasta. The most recent eruption in that area was the explosive eruption depicted in this image of mount lassen on may 22nd 1915. What happens to the sea floor spreading center off of northern california. Like all such centers it is offset at regular intervals by transform faults. If we move along the ridge north we hit this transform boundary. That then connects to the continuation of the spreading centers a bit west. If we go back and follow the ridge south we hit another transform. This one offsets the ridge eastward. Where. All the way south to the sea of cortez where it connects with the seafloor spreading centers that are separating the baja peninsula from the rest of mexico. This long transform boundary that connects these two sections of ocean ridge is known as the san andreas fault system. Those of us who live along its path are familiar with its associated earthquake hazards. The loma prieta earthquake in 1989. Was one of the most recent large earthquakes. The magnitude 6.9 earthquake caused significant shaking and damage from santa cruz to san francisco as it released built up stress related to the transform plate motion. Why is the transform so long. What made it this way and why are they seafloor spreading center so close to the continent and not in the middle of the ocean. This animation from the university of santa barbara shows what the pacific ocean look like 80 million years ago when the mid-ocean ridge seafloor spreading center with all its offset transform. Was actually close to the middle of the ocean. Notice what has happened over the past 80 million years. As the atlantic ocean spread north america was pushed westward. The western continental margin of north america was a large long subduction zone with associated volcanoes and terrain accretion. But about 25 million years ago the spreading center began to be overrun. It's abducted under the north american continent. And the san andreas fault system began to form. Pause now. Subduction now over the volcanism of the sierra nevada also ended. But what happened to that spreading center. We can image the crust under north america and see evidence of the old plate still subducting. And right above the spot where we suspect the spreading center would now be we have an area of tens. With a continental crust is being pulled apart. Similar to the break of a pangea. The crystal stretching has created sub parallel mountains and valleys collectively known as the basin and range. Along the westernmost edge the sierra nevada mountains are being pulled up out of the ground causing high rates of erosion and exposure of deep granite rock bodies that are the now frozen remnants of the magma chambers that used to feed the active subduction volcanoes. So walking in glacially carved yosemite gr. He's actually walking along the remnants of old volcanic cores. What else results from the stretching of the basin and range. In addition to exposing the eroded underbelly of ancient sierra and volcanism. The roofing activity is also producing a source of new volcanism to the area. The resulting volcanoes are completely different in character and cause to subduction zone volcanoes. Both by being more of a luminous in their magma. And more explosive and they're eruptive style. Mammoth mountain is one volcanic structure found in the middle of this region known collectively as long valley. In this region of rifting and thin crust mantle rock is melting and rising beneath the surface just like what happens at seafloor spreading divergent plate boundaries. Mantle melts combined with large amounts of crystal. Collecting a giant magma chamber just under the surface. The long valley caldera is a giant crater left behind after one of the largest volcanic eruptions to happen in north america. Empty the magma chamber and the surrounding cross collapsed. The last large eruption about 760,000 years ago left bits of ash and pumice strewn across most of the western united states. There's still an active magma chamber under the caldera which releases carbon dioxide gases and hot water at numerous locations around the rim. It has been classified as one of the largest volcanic centers in north america. The most recent eruptions were those that produced phantom crater and the innocrators. 500 to 600 years ago. Let's leave this unique volcanic region and return to the remnants of the ancient subduction zone volcanoes now exposed as granite in the central and western sierras. If you want to experience some of this granite closer to home. The san andreas fault has done a great job of moving rocks around in the state. As a result of the transform motion sections of the southern sierra nevada granite were separated from their origination spot and carried northwards. We see them today as far north as point raise. They also make up the rock of montara mountain. On the rock of the fairlawn islands. Pause now. What about the rest of the rock around us where did that come from. While some of the rock that makes up the santa cruz mountains in the hills of san francisco. Comes from recent deposition of coastal settlements during changing sea levels in ice ages the majority of it consists of individual blocks of terrains that were created during the past periods of subduction. Prior to the collision of a mid-ocean ridge with the subduction zones there were hundreds of millions of years of active subduction. During that time ocean crust was carried into the subduction zones and portions of what it carried were scraped off and attached to the edge of the continent. Extending the continent westward in a paper mache style sequence of addition or accretion. Accreted material can include ocean sediment that got scraped off the top of the subducting plate. Continental settlement that would have poured off the continental shelf into the trench ocean sea mounts or islands that would have gotten stuck in a trench and scraped off sections of entire oceanic crust. And metamorphic rocks produced during collision and subduction. As you can see play tectonics has had a huge impact on the past and present landscape of california. It produces many of our major geologic hazards and it has rafted in and combined the very land masses that now make up our state. Take a field trip to one of these nearby locations. Where you can see the evidence and walk on the old surfaces yourself. Pause now. For more information and more detail continue on to the next video in this series. \n"
          ]
        }
      ]
    },
    {
      "cell_type": "code",
      "source": [
        "len(transcript)"
      ],
      "metadata": {
        "colab": {
          "base_uri": "https://localhost:8080/"
        },
        "id": "FfPJm5zTB3Bq",
        "outputId": "441a8d6d-6575-4534-ebf8-19db2e922ce7"
      },
      "execution_count": 14,
      "outputs": [
        {
          "output_type": "execute_result",
          "data": {
            "text/plain": [
              "7472"
            ]
          },
          "metadata": {},
          "execution_count": 14
        }
      ]
    },
    {
      "cell_type": "code",
      "source": [
        "import wave\n",
        "import numpy as np\n",
        "import matplotlib.pyplot as plt\n",
        "audio_file = wave.open(\"/content/drive/MyDrive/PROJECTS/video analysis/audio.wav\", \"rb\")\n",
        "frames = audio_file.readframes(-1)\n",
        "\n",
        "sample_rate = audio_file.getframerate()\n",
        "num_channels = audio_file.getnchannels()\n",
        "\n",
        "audio_array = np.frombuffer(frames, dtype=np.int16)\n",
        "\n",
        "if num_channels > 1:\n",
        "    audio_array = np.mean(audio_array.reshape(-1, num_channels), axis=1)\n",
        "\n",
        "time_axis = np.linspace(0, len(audio_array) / sample_rate, num=len(audio_array))\n",
        "\n"
      ],
      "metadata": {
        "id": "LAQv3PFYlFKc"
      },
      "execution_count": 15,
      "outputs": []
    },
    {
      "cell_type": "code",
      "source": [
        "plt.plot(time_axis, audio_array)\n",
        "plt.xlabel(\"Time (s)\")\n",
        "plt.ylabel(\"Amplitude\")\n",
        "plt.show()\n"
      ],
      "metadata": {
        "colab": {
          "base_uri": "https://localhost:8080/",
          "height": 449
        },
        "id": "3tbWwmcCJQp5",
        "outputId": "102f209e-ddbc-429f-e83f-842b110780ab"
      },
      "execution_count": 16,
      "outputs": [
        {
          "output_type": "display_data",
          "data": {
            "text/plain": [
              "<Figure size 640x480 with 1 Axes>"
            ],
            "image/png": "[encoded data removed]"
          },
          "metadata": {}
        }
      ]
    },
    {
      "cell_type": "code",
      "source": [
        "!pip install spacy\n",
        "!python -m spacy download en_core_web_sm"
      ],
      "metadata": {
        "colab": {
          "base_uri": "https://localhost:8080/"
        },
        "id": "eh2lrMuZG7IB",
        "outputId": "7da79215-c6cf-4720-f6e6-05d0cca32e9d"
      },
      "execution_count": 17,
      "outputs": [
        {
          "output_type": "stream",
          "name": "stdout",
          "text": [
            "Looking in indexes: https://pypi.org/simple, https://us-python.pkg.dev/colab-wheels/public/simple/\n",
            "Requirement already satisfied: spacy in /usr/local/lib/python3.9/dist-packages (3.5.1)\n",
            "Requirement already satisfied: catalogue<2.1.0,>=2.0.6 in /usr/local/lib/python3.9/dist-packages (from spacy) (2.0.8)\n",
            "Requirement already satisfied: setuptools in /usr/local/lib/python3.9/dist-packages (from spacy) (67.6.1)\n",
            "Requirement already satisfied: srsly<3.0.0,>=2.4.3 in /usr/local/lib/python3.9/dist-packages (from spacy) (2.4.6)\n",
            "Requirement already satisfied: tqdm<5.0.0,>=4.38.0 in /usr/local/lib/python3.9/dist-packages (from spacy) (4.65.0)\n",
            "Requirement already satisfied: numpy>=1.15.0 in /usr/local/lib/python3.9/dist-packages (from spacy) (1.22.4)\n",
            "Requirement already satisfied: preshed<3.1.0,>=3.0.2 in /usr/local/lib/python3.9/dist-packages (from spacy) (3.0.8)\n",
            "Requirement already satisfied: smart-open<7.0.0,>=5.2.1 in /usr/local/lib/python3.9/dist-packages (from spacy) (6.3.0)\n",
            "Requirement already satisfied: pydantic!=1.8,!=1.8.1,<1.11.0,>=1.7.4 in /usr/local/lib/python3.9/dist-packages (from spacy) (1.10.7)\n",
            "Requirement already satisfied: murmurhash<1.1.0,>=0.28.0 in /usr/local/lib/python3.9/dist-packages (from spacy) (1.0.9)\n",
            "Requirement already satisfied: cymem<2.1.0,>=2.0.2 in /usr/local/lib/python3.9/dist-packages (from spacy) (2.0.7)\n",
            "Requirement already satisfied: spacy-loggers<2.0.0,>=1.0.0 in /usr/local/lib/python3.9/dist-packages (from spacy) (1.0.4)\n",
            "Requirement already satisfied: jinja2 in /usr/local/lib/python3.9/dist-packages (from spacy) (3.1.2)\n",
            "Requirement already satisfied: packaging>=20.0 in /usr/local/lib/python3.9/dist-packages (from spacy) (23.0)\n",
            "Requirement already satisfied: requests<3.0.0,>=2.13.0 in /usr/local/lib/python3.9/dist-packages (from spacy) (2.27.1)\n",
            "Requirement already satisfied: thinc<8.2.0,>=8.1.8 in /usr/local/lib/python3.9/dist-packages (from spacy) (8.1.9)\n",
            "Requirement already satisfied: spacy-legacy<3.1.0,>=3.0.11 in /usr/local/lib/python3.9/dist-packages (from spacy) (3.0.12)\n",
            "Requirement already satisfied: pathy>=0.10.0 in /usr/local/lib/python3.9/dist-packages (from spacy) (0.10.1)\n",
            "Requirement already satisfied: wasabi<1.2.0,>=0.9.1 in /usr/local/lib/python3.9/dist-packages (from spacy) (1.1.1)\n",
            "Requirement already satisfied: typer<0.8.0,>=0.3.0 in /usr/local/lib/python3.9/dist-packages (from spacy) (0.7.0)\n",
            "Requirement already satisfied: langcodes<4.0.0,>=3.2.0 in /usr/local/lib/python3.9/dist-packages (from spacy) (3.3.0)\n",
            "Requirement already satisfied: typing-extensions>=4.2.0 in /usr/local/lib/python3.9/dist-packages (from pydantic!=1.8,!=1.8.1,<1.11.0,>=1.7.4->spacy) (4.5.0)\n",
            "Requirement already satisfied: idna<4,>=2.5 in /usr/local/lib/python3.9/dist-packages (from requests<3.0.0,>=2.13.0->spacy) (3.4)\n",
            "Requirement already satisfied: charset-normalizer~=2.0.0 in /usr/local/lib/python3.9/dist-packages (from requests<3.0.0,>=2.13.0->spacy) (2.0.12)\n",
            "Requirement already satisfied: certifi>=2017.4.17 in /usr/local/lib/python3.9/dist-packages (from requests<3.0.0,>=2.13.0->spacy) (2022.12.7)\n",
            "Requirement already satisfied: urllib3<1.27,>=1.21.1 in /usr/local/lib/python3.9/dist-packages (from requests<3.0.0,>=2.13.0->spacy) (1.26.15)\n",
            "Requirement already satisfied: confection<1.0.0,>=0.0.1 in /usr/local/lib/python3.9/dist-packages (from thinc<8.2.0,>=8.1.8->spacy) (0.0.4)\n",
            "Requirement already satisfied: blis<0.8.0,>=0.7.8 in /usr/local/lib/python3.9/dist-packages (from thinc<8.2.0,>=8.1.8->spacy) (0.7.9)\n",
            "Requirement already satisfied: click<9.0.0,>=7.1.1 in /usr/local/lib/python3.9/dist-packages (from typer<0.8.0,>=0.3.0->spacy) (8.1.3)\n",
            "Requirement already satisfied: MarkupSafe>=2.0 in /usr/local/lib/python3.9/dist-packages (from jinja2->spacy) (2.1.2)\n",
            "2023-04-17 13:27:41.898784: W tensorflow/compiler/tf2tensorrt/utils/py_utils.cc:38] TF-TRT Warning: Could not find TensorRT\n",
            "Looking in indexes: https://pypi.org/simple, https://us-python.pkg.dev/colab-wheels/public/simple/\n",
            "Collecting en-core-web-sm==3.5.0\n",
            "  Downloading https://github.com/explosion/spacy-models/releases/download/en_core_web_sm-3.5.0/en_core_web_sm-3.5.0-py3-none-any.whl (12.8 MB)\n",
            "\u001b[2K     \u001b[90m━━━━━━━━━━━━━━━━━━━━━━━━━━━━━━━━━━━━━━━━\u001b[0m \u001b[32m12.8/12.8 MB\u001b[0m \u001b[31m48.0 MB/s\u001b[0m eta \u001b[36m0:00:00\u001b[0m\n",
            "\u001b[?25hRequirement already satisfied: spacy<3.6.0,>=3.5.0 in /usr/local/lib/python3.9/dist-packages (from en-core-web-sm==3.5.0) (3.5.1)\n",
            "Requirement already satisfied: catalogue<2.1.0,>=2.0.6 in /usr/local/lib/python3.9/dist-packages (from spacy<3.6.0,>=3.5.0->en-core-web-sm==3.5.0) (2.0.8)\n",
            "Requirement already satisfied: requests<3.0.0,>=2.13.0 in /usr/local/lib/python3.9/dist-packages (from spacy<3.6.0,>=3.5.0->en-core-web-sm==3.5.0) (2.27.1)\n",
            "Requirement already satisfied: packaging>=20.0 in /usr/local/lib/python3.9/dist-packages (from spacy<3.6.0,>=3.5.0->en-core-web-sm==3.5.0) (23.0)\n",
            "Requirement already satisfied: wasabi<1.2.0,>=0.9.1 in /usr/local/lib/python3.9/dist-packages (from spacy<3.6.0,>=3.5.0->en-core-web-sm==3.5.0) (1.1.1)\n",
            "Requirement already satisfied: pydantic!=1.8,!=1.8.1,<1.11.0,>=1.7.4 in /usr/local/lib/python3.9/dist-packages (from spacy<3.6.0,>=3.5.0->en-core-web-sm==3.5.0) (1.10.7)\n",
            "Requirement already satisfied: pathy>=0.10.0 in /usr/local/lib/python3.9/dist-packages (from spacy<3.6.0,>=3.5.0->en-core-web-sm==3.5.0) (0.10.1)\n",
            "Requirement already satisfied: tqdm<5.0.0,>=4.38.0 in /usr/local/lib/python3.9/dist-packages (from spacy<3.6.0,>=3.5.0->en-core-web-sm==3.5.0) (4.65.0)\n",
            "Requirement already satisfied: typer<0.8.0,>=0.3.0 in /usr/local/lib/python3.9/dist-packages (from spacy<3.6.0,>=3.5.0->en-core-web-sm==3.5.0) (0.7.0)\n",
            "Requirement already satisfied: setuptools in /usr/local/lib/python3.9/dist-packages (from spacy<3.6.0,>=3.5.0->en-core-web-sm==3.5.0) (67.6.1)\n",
            "Requirement already satisfied: spacy-legacy<3.1.0,>=3.0.11 in /usr/local/lib/python3.9/dist-packages (from spacy<3.6.0,>=3.5.0->en-core-web-sm==3.5.0) (3.0.12)\n",
            "Requirement already satisfied: thinc<8.2.0,>=8.1.8 in /usr/local/lib/python3.9/dist-packages (from spacy<3.6.0,>=3.5.0->en-core-web-sm==3.5.0) (8.1.9)\n",
            "Requirement already satisfied: murmurhash<1.1.0,>=0.28.0 in /usr/local/lib/python3.9/dist-packages (from spacy<3.6.0,>=3.5.0->en-core-web-sm==3.5.0) (1.0.9)\n",
            "Requirement already satisfied: langcodes<4.0.0,>=3.2.0 in /usr/local/lib/python3.9/dist-packages (from spacy<3.6.0,>=3.5.0->en-core-web-sm==3.5.0) (3.3.0)\n",
            "Requirement already satisfied: srsly<3.0.0,>=2.4.3 in /usr/local/lib/python3.9/dist-packages (from spacy<3.6.0,>=3.5.0->en-core-web-sm==3.5.0) (2.4.6)\n",
            "Requirement already satisfied: preshed<3.1.0,>=3.0.2 in /usr/local/lib/python3.9/dist-packages (from spacy<3.6.0,>=3.5.0->en-core-web-sm==3.5.0) (3.0.8)\n",
            "Requirement already satisfied: jinja2 in /usr/local/lib/python3.9/dist-packages (from spacy<3.6.0,>=3.5.0->en-core-web-sm==3.5.0) (3.1.2)\n",
            "Requirement already satisfied: spacy-loggers<2.0.0,>=1.0.0 in /usr/local/lib/python3.9/dist-packages (from spacy<3.6.0,>=3.5.0->en-core-web-sm==3.5.0) (1.0.4)\n",
            "Requirement already satisfied: smart-open<7.0.0,>=5.2.1 in /usr/local/lib/python3.9/dist-packages (from spacy<3.6.0,>=3.5.0->en-core-web-sm==3.5.0) (6.3.0)\n",
            "Requirement already satisfied: numpy>=1.15.0 in /usr/local/lib/python3.9/dist-packages (from spacy<3.6.0,>=3.5.0->en-core-web-sm==3.5.0) (1.22.4)\n",
            "Requirement already satisfied: cymem<2.1.0,>=2.0.2 in /usr/local/lib/python3.9/dist-packages (from spacy<3.6.0,>=3.5.0->en-core-web-sm==3.5.0) (2.0.7)\n",
            "Requirement already satisfied: typing-extensions>=4.2.0 in /usr/local/lib/python3.9/dist-packages (from pydantic!=1.8,!=1.8.1,<1.11.0,>=1.7.4->spacy<3.6.0,>=3.5.0->en-core-web-sm==3.5.0) (4.5.0)\n",
            "Requirement already satisfied: certifi>=2017.4.17 in /usr/local/lib/python3.9/dist-packages (from requests<3.0.0,>=2.13.0->spacy<3.6.0,>=3.5.0->en-core-web-sm==3.5.0) (2022.12.7)\n",
            "Requirement already satisfied: idna<4,>=2.5 in /usr/local/lib/python3.9/dist-packages (from requests<3.0.0,>=2.13.0->spacy<3.6.0,>=3.5.0->en-core-web-sm==3.5.0) (3.4)\n",
            "Requirement already satisfied: urllib3<1.27,>=1.21.1 in /usr/local/lib/python3.9/dist-packages (from requests<3.0.0,>=2.13.0->spacy<3.6.0,>=3.5.0->en-core-web-sm==3.5.0) (1.26.15)\n",
            "Requirement already satisfied: charset-normalizer~=2.0.0 in /usr/local/lib/python3.9/dist-packages (from requests<3.0.0,>=2.13.0->spacy<3.6.0,>=3.5.0->en-core-web-sm==3.5.0) (2.0.12)\n",
            "Requirement already satisfied: confection<1.0.0,>=0.0.1 in /usr/local/lib/python3.9/dist-packages (from thinc<8.2.0,>=8.1.8->spacy<3.6.0,>=3.5.0->en-core-web-sm==3.5.0) (0.0.4)\n",
            "Requirement already satisfied: blis<0.8.0,>=0.7.8 in /usr/local/lib/python3.9/dist-packages (from thinc<8.2.0,>=8.1.8->spacy<3.6.0,>=3.5.0->en-core-web-sm==3.5.0) (0.7.9)\n",
            "Requirement already satisfied: click<9.0.0,>=7.1.1 in /usr/local/lib/python3.9/dist-packages (from typer<0.8.0,>=0.3.0->spacy<3.6.0,>=3.5.0->en-core-web-sm==3.5.0) (8.1.3)\n",
            "Requirement already satisfied: MarkupSafe>=2.0 in /usr/local/lib/python3.9/dist-packages (from jinja2->spacy<3.6.0,>=3.5.0->en-core-web-sm==3.5.0) (2.1.2)\n",
            "\u001b[38;5;2m✔ Download and installation successful\u001b[0m\n",
            "You can now load the package via spacy.load('en_core_web_sm')\n"
          ]
        }
      ]
    },
    {
      "cell_type": "code",
      "source": [
        "import heapq\n",
        "import spacy"
      ],
      "metadata": {
        "id": "KsFGadWjHvlv"
      },
      "execution_count": 18,
      "outputs": []
    },
    {
      "cell_type": "code",
      "source": [
        "\n",
        "nlp = spacy.load(\"en_core_web_sm\")\n"
      ],
      "metadata": {
        "id": "Ho7e4695HxVq"
      },
      "execution_count": 19,
      "outputs": []
    },
    {
      "cell_type": "code",
      "source": [
        "# Load transcribed text from video\n",
        "with open(\"/content/drive/MyDrive/PROJECTS/video analysis/transcript.txt\", \"r\") as f:\n",
        "    text = f.read()"
      ],
      "metadata": {
        "id": "FzLrxwGeH0KE"
      },
      "execution_count": 20,
      "outputs": []
    },
    {
      "cell_type": "code",
      "source": [
        "# Convert text to sentences\n",
        "doc = nlp(text)\n",
        "sentences = [sent.text for sent in doc.sents]\n",
        "sentences"
      ],
      "metadata": {
        "colab": {
          "base_uri": "https://localhost:8080/"
        },
        "id": "5lrtIUG4H3G0",
        "outputId": "8b3af2e6-063d-4acd-aa07-1a1f495472e5"
      },
      "execution_count": 21,
      "outputs": [
        {
          "output_type": "execute_result",
          "data": {
            "text/plain": [
              "['So now that we have the basics down for plate tectonics.',\n",
              " 'What it is how it works and how we know about it',\n",
              " 'so what.',\n",
              " 'How does plate tectonics affect life in california or anywhere else for that matter.',\n",
              " \"To answer that let's look at california's current plate tectonic setting.\",\n",
              " 'As this map shows we have a number of plate boundaries within or near the state.',\n",
              " 'Notice at the northern part of california we have a divergent plate boundary or an offshore seafloor spreading center where new oceanic crust forms and then is pushed away.',\n",
              " 'Here along the coast that crust collides with and then sinks under northern california.',\n",
              " 'That produces a convergent plate boundary.',\n",
              " 'Where plate with an oceanic crust leading edge collides with a plate with continental crust on the edge.',\n",
              " 'Result.',\n",
              " 'Subduction.',\n",
              " 'A trench earthquakes and inland an active chain of volcanoes.',\n",
              " 'This volcanic chain is known as the cascade mountains.',\n",
              " 'And in california is expressed with the active volcanoes of mount lassen and mount shasta.',\n",
              " 'The most recent eruption in that area was the explosive eruption depicted in this image of mount lassen on may 22nd 1915.',\n",
              " 'What happens to the sea floor spreading center off of northern california.',\n",
              " 'Like all such centers it is offset at regular intervals by transform faults.',\n",
              " 'If we move along the ridge north we hit this transform boundary.',\n",
              " 'That then connects to the continuation of the spreading centers a bit west.',\n",
              " 'If we go back and follow the ridge south we hit another transform.',\n",
              " 'This one offsets the ridge eastward.',\n",
              " 'Where.',\n",
              " 'All the way south to the sea of cortez where it connects with the seafloor spreading centers that are separating the baja peninsula from the rest of mexico.',\n",
              " 'This long transform boundary that connects these two sections of ocean ridge is known as the san andreas fault system.',\n",
              " 'Those of us who live along its path are familiar with its associated earthquake hazards.',\n",
              " 'The loma prieta earthquake in 1989.',\n",
              " 'Was one of the most recent large earthquakes.',\n",
              " 'The magnitude 6.9 earthquake caused significant shaking and damage from santa cruz to san francisco as it released built up stress related to the transform plate motion.',\n",
              " 'Why is the transform so long.',\n",
              " 'What made it this way and why are they seafloor spreading center so close to the continent and not in the middle of the ocean.',\n",
              " 'This animation from the university of santa barbara shows what the pacific ocean look like 80 million years ago when the mid-ocean ridge seafloor spreading center with all its offset transform.',\n",
              " 'Was actually close to the middle of the ocean.',\n",
              " 'Notice what has happened over the past 80 million years.',\n",
              " 'As the atlantic ocean spread north america was pushed westward.',\n",
              " 'The western continental margin of north america was a large long subduction zone with associated volcanoes and terrain accretion.',\n",
              " 'But about 25 million years ago the spreading center began to be overrun.',\n",
              " \"It's abducted under the north american continent.\",\n",
              " 'And the san andreas fault system began to form.',\n",
              " 'Pause now.',\n",
              " 'Subduction now over the volcanism of the sierra nevada also ended.',\n",
              " 'But what happened to that spreading center.',\n",
              " 'We can image the crust under north america and see evidence of the old plate still subducting.',\n",
              " 'And right above the spot where we suspect the spreading center would now be we have an area of tens.',\n",
              " 'With a continental crust is being pulled apart.',\n",
              " 'Similar to the break of a pangea.',\n",
              " 'The crystal stretching has created sub parallel mountains and valleys collectively known as the basin and range.',\n",
              " 'Along the westernmost edge the sierra nevada mountains are being pulled up out of the ground causing high rates of erosion and exposure of deep granite rock bodies that are the now frozen remnants of the magma chambers that used to feed the active subduction volcanoes.',\n",
              " 'So walking in glacially carved yosemite gr.',\n",
              " \"He's actually walking along the remnants of old volcanic cores.\",\n",
              " 'What else results from the stretching of the basin and range.',\n",
              " 'In addition to exposing the eroded underbelly of ancient sierra and volcanism.',\n",
              " 'The roofing activity is also producing a source of new volcanism to the area.',\n",
              " 'The resulting volcanoes are completely different in character and cause to subduction zone volcanoes.',\n",
              " 'Both by being more of a luminous in their magma.',\n",
              " \"And more explosive and they're eruptive style.\",\n",
              " 'Mammoth mountain is one volcanic structure found in the middle of this region known collectively as long valley.',\n",
              " 'In this region of rifting and thin crust mantle rock is melting and rising beneath the surface just like what happens at seafloor spreading divergent plate boundaries.',\n",
              " 'Mantle melts combined with large amounts of crystal.',\n",
              " 'Collecting a giant magma chamber just under the surface.',\n",
              " 'The long valley caldera is a giant crater left behind after one of the largest volcanic eruptions to happen in north america.',\n",
              " 'Empty the magma chamber and the surrounding cross collapsed.',\n",
              " 'The last large eruption about 760,000 years ago left bits of ash and pumice strewn across most of the western united states.',\n",
              " \"There's still an active magma chamber under the caldera which releases carbon dioxide gases and hot water at numerous locations around the rim.\",\n",
              " 'It has been classified as one of the largest volcanic centers in north america.',\n",
              " 'The most recent eruptions were those that produced phantom crater and the innocrators.',\n",
              " '500 to 600 years ago.',\n",
              " \"Let's leave this unique volcanic region and return to the remnants of the ancient subduction zone volcanoes now exposed as granite in the central and western sierras.\",\n",
              " 'If you want to experience some of this granite closer to home.',\n",
              " 'The san andreas fault has done a great job of moving rocks around in the state.',\n",
              " 'As a result of the transform motion sections of the southern sierra nevada granite were separated from their origination spot and carried northwards.',\n",
              " 'We see them today as far north as point raise.',\n",
              " 'They also make up the rock of montara mountain.',\n",
              " 'On the rock of the fairlawn islands.',\n",
              " 'Pause now.',\n",
              " 'What about the rest of the rock around us where did that come from.',\n",
              " 'While some of the rock that makes up the santa cruz mountains in the hills of san francisco.',\n",
              " 'Comes from recent deposition of coastal settlements during changing sea levels in ice ages the majority of it consists of individual blocks of terrains that were created during the past periods of subduction.',\n",
              " 'Prior to the collision of a mid-ocean ridge with the subduction zones there were hundreds of millions of years of active subduction.',\n",
              " 'During that time ocean crust was carried into the subduction zones and portions of what it carried were scraped off and attached to the edge of the continent.',\n",
              " 'Extending the continent westward in a paper mache style sequence of addition or accretion.',\n",
              " 'Accreted material can include ocean sediment that got scraped off the top of the subducting plate.',\n",
              " 'Continental settlement that would have poured off the continental shelf into the trench ocean sea mounts or islands that would have gotten stuck in a trench and scraped off sections of entire oceanic crust.',\n",
              " 'And metamorphic rocks produced during collision and subduction.',\n",
              " 'As you can see play tectonics has had a huge impact on the past and present landscape of california.',\n",
              " 'It produces many of our major geologic hazards and it has rafted in and combined the very land masses that now make up our state.',\n",
              " 'Take a field trip to one of these nearby locations.',\n",
              " 'Where you can see the evidence and walk on the old surfaces yourself.',\n",
              " 'Pause now.',\n",
              " 'For more information and more detail continue on to the next video in this series.']"
            ]
          },
          "metadata": {},
          "execution_count": 21
        }
      ]
    },
    {
      "cell_type": "code",
      "source": [
        "tokens = [token.text for token in doc]\n",
        "print(tokens)"
      ],
      "metadata": {
        "colab": {
          "base_uri": "https://localhost:8080/"
        },
        "id": "P79m4K8PNU2z",
        "outputId": "d3f310e6-1187-4a9d-92a8-d4332472a441"
      },
      "execution_count": 22,
      "outputs": [
        {
          "output_type": "stream",
          "name": "stdout",
          "text": [
            "['So', 'now', 'that', 'we', 'have', 'the', 'basics', 'down', 'for', 'plate', 'tectonics', '.', 'What', 'it', 'is', 'how', 'it', 'works', 'and', 'how', 'we', 'know', 'about', 'it', 'so', 'what', '.', 'How', 'does', 'plate', 'tectonics', 'affect', 'life', 'in', 'california', 'or', 'anywhere', 'else', 'for', 'that', 'matter', '.', 'To', 'answer', 'that', 'let', \"'s\", 'look', 'at', 'california', \"'s\", 'current', 'plate', 'tectonic', 'setting', '.', 'As', 'this', 'map', 'shows', 'we', 'have', 'a', 'number', 'of', 'plate', 'boundaries', 'within', 'or', 'near', 'the', 'state', '.', 'Notice', 'at', 'the', 'northern', 'part', 'of', 'california', 'we', 'have', 'a', 'divergent', 'plate', 'boundary', 'or', 'an', 'offshore', 'seafloor', 'spreading', 'center', 'where', 'new', 'oceanic', 'crust', 'forms', 'and', 'then', 'is', 'pushed', 'away', '.', 'Here', 'along', 'the', 'coast', 'that', 'crust', 'collides', 'with', 'and', 'then', 'sinks', 'under', 'northern', 'california', '.', 'That', 'produces', 'a', 'convergent', 'plate', 'boundary', '.', 'Where', 'plate', 'with', 'an', 'oceanic', 'crust', 'leading', 'edge', 'collides', 'with', 'a', 'plate', 'with', 'continental', 'crust', 'on', 'the', 'edge', '.', 'Result', '.', 'Subduction', '.', 'A', 'trench', 'earthquakes', 'and', 'inland', 'an', 'active', 'chain', 'of', 'volcanoes', '.', 'This', 'volcanic', 'chain', 'is', 'known', 'as', 'the', 'cascade', 'mountains', '.', 'And', 'in', 'california', 'is', 'expressed', 'with', 'the', 'active', 'volcanoes', 'of', 'mount', 'lassen', 'and', 'mount', 'shasta', '.', 'The', 'most', 'recent', 'eruption', 'in', 'that', 'area', 'was', 'the', 'explosive', 'eruption', 'depicted', 'in', 'this', 'image', 'of', 'mount', 'lassen', 'on', 'may', '22nd', '1915', '.', 'What', 'happens', 'to', 'the', 'sea', 'floor', 'spreading', 'center', 'off', 'of', 'northern', 'california', '.', 'Like', 'all', 'such', 'centers', 'it', 'is', 'offset', 'at', 'regular', 'intervals', 'by', 'transform', 'faults', '.', 'If', 'we', 'move', 'along', 'the', 'ridge', 'north', 'we', 'hit', 'this', 'transform', 'boundary', '.', 'That', 'then', 'connects', 'to', 'the', 'continuation', 'of', 'the', 'spreading', 'centers', 'a', 'bit', 'west', '.', 'If', 'we', 'go', 'back', 'and', 'follow', 'the', 'ridge', 'south', 'we', 'hit', 'another', 'transform', '.', 'This', 'one', 'offsets', 'the', 'ridge', 'eastward', '.', 'Where', '.', 'All', 'the', 'way', 'south', 'to', 'the', 'sea', 'of', 'cortez', 'where', 'it', 'connects', 'with', 'the', 'seafloor', 'spreading', 'centers', 'that', 'are', 'separating', 'the', 'baja', 'peninsula', 'from', 'the', 'rest', 'of', 'mexico', '.', 'This', 'long', 'transform', 'boundary', 'that', 'connects', 'these', 'two', 'sections', 'of', 'ocean', 'ridge', 'is', 'known', 'as', 'the', 'san', 'andreas', 'fault', 'system', '.', 'Those', 'of', 'us', 'who', 'live', 'along', 'its', 'path', 'are', 'familiar', 'with', 'its', 'associated', 'earthquake', 'hazards', '.', 'The', 'loma', 'prieta', 'earthquake', 'in', '1989', '.', 'Was', 'one', 'of', 'the', 'most', 'recent', 'large', 'earthquakes', '.', 'The', 'magnitude', '6.9', 'earthquake', 'caused', 'significant', 'shaking', 'and', 'damage', 'from', 'santa', 'cruz', 'to', 'san', 'francisco', 'as', 'it', 'released', 'built', 'up', 'stress', 'related', 'to', 'the', 'transform', 'plate', 'motion', '.', 'Why', 'is', 'the', 'transform', 'so', 'long', '.', 'What', 'made', 'it', 'this', 'way', 'and', 'why', 'are', 'they', 'seafloor', 'spreading', 'center', 'so', 'close', 'to', 'the', 'continent', 'and', 'not', 'in', 'the', 'middle', 'of', 'the', 'ocean', '.', 'This', 'animation', 'from', 'the', 'university', 'of', 'santa', 'barbara', 'shows', 'what', 'the', 'pacific', 'ocean', 'look', 'like', '80', 'million', 'years', 'ago', 'when', 'the', 'mid', '-', 'ocean', 'ridge', 'seafloor', 'spreading', 'center', 'with', 'all', 'its', 'offset', 'transform', '.', 'Was', 'actually', 'close', 'to', 'the', 'middle', 'of', 'the', 'ocean', '.', 'Notice', 'what', 'has', 'happened', 'over', 'the', 'past', '80', 'million', 'years', '.', 'As', 'the', 'atlantic', 'ocean', 'spread', 'north', 'america', 'was', 'pushed', 'westward', '.', 'The', 'western', 'continental', 'margin', 'of', 'north', 'america', 'was', 'a', 'large', 'long', 'subduction', 'zone', 'with', 'associated', 'volcanoes', 'and', 'terrain', 'accretion', '.', 'But', 'about', '25', 'million', 'years', 'ago', 'the', 'spreading', 'center', 'began', 'to', 'be', 'overrun', '.', 'It', \"'s\", 'abducted', 'under', 'the', 'north', 'american', 'continent', '.', 'And', 'the', 'san', 'andreas', 'fault', 'system', 'began', 'to', 'form', '.', 'Pause', 'now', '.', 'Subduction', 'now', 'over', 'the', 'volcanism', 'of', 'the', 'sierra', 'nevada', 'also', 'ended', '.', 'But', 'what', 'happened', 'to', 'that', 'spreading', 'center', '.', 'We', 'can', 'image', 'the', 'crust', 'under', 'north', 'america', 'and', 'see', 'evidence', 'of', 'the', 'old', 'plate', 'still', 'subducting', '.', 'And', 'right', 'above', 'the', 'spot', 'where', 'we', 'suspect', 'the', 'spreading', 'center', 'would', 'now', 'be', 'we', 'have', 'an', 'area', 'of', 'tens', '.', 'With', 'a', 'continental', 'crust', 'is', 'being', 'pulled', 'apart', '.', 'Similar', 'to', 'the', 'break', 'of', 'a', 'pangea', '.', 'The', 'crystal', 'stretching', 'has', 'created', 'sub', 'parallel', 'mountains', 'and', 'valleys', 'collectively', 'known', 'as', 'the', 'basin', 'and', 'range', '.', 'Along', 'the', 'westernmost', 'edge', 'the', 'sierra', 'nevada', 'mountains', 'are', 'being', 'pulled', 'up', 'out', 'of', 'the', 'ground', 'causing', 'high', 'rates', 'of', 'erosion', 'and', 'exposure', 'of', 'deep', 'granite', 'rock', 'bodies', 'that', 'are', 'the', 'now', 'frozen', 'remnants', 'of', 'the', 'magma', 'chambers', 'that', 'used', 'to', 'feed', 'the', 'active', 'subduction', 'volcanoes', '.', 'So', 'walking', 'in', 'glacially', 'carved', 'yosemite', 'gr', '.', 'He', \"'s\", 'actually', 'walking', 'along', 'the', 'remnants', 'of', 'old', 'volcanic', 'cores', '.', 'What', 'else', 'results', 'from', 'the', 'stretching', 'of', 'the', 'basin', 'and', 'range', '.', 'In', 'addition', 'to', 'exposing', 'the', 'eroded', 'underbelly', 'of', 'ancient', 'sierra', 'and', 'volcanism', '.', 'The', 'roofing', 'activity', 'is', 'also', 'producing', 'a', 'source', 'of', 'new', 'volcanism', 'to', 'the', 'area', '.', 'The', 'resulting', 'volcanoes', 'are', 'completely', 'different', 'in', 'character', 'and', 'cause', 'to', 'subduction', 'zone', 'volcanoes', '.', 'Both', 'by', 'being', 'more', 'of', 'a', 'luminous', 'in', 'their', 'magma', '.', 'And', 'more', 'explosive', 'and', 'they', \"'re\", 'eruptive', 'style', '.', 'Mammoth', 'mountain', 'is', 'one', 'volcanic', 'structure', 'found', 'in', 'the', 'middle', 'of', 'this', 'region', 'known', 'collectively', 'as', 'long', 'valley', '.', 'In', 'this', 'region', 'of', 'rifting', 'and', 'thin', 'crust', 'mantle', 'rock', 'is', 'melting', 'and', 'rising', 'beneath', 'the', 'surface', 'just', 'like', 'what', 'happens', 'at', 'seafloor', 'spreading', 'divergent', 'plate', 'boundaries', '.', 'Mantle', 'melts', 'combined', 'with', 'large', 'amounts', 'of', 'crystal', '.', 'Collecting', 'a', 'giant', 'magma', 'chamber', 'just', 'under', 'the', 'surface', '.', 'The', 'long', 'valley', 'caldera', 'is', 'a', 'giant', 'crater', 'left', 'behind', 'after', 'one', 'of', 'the', 'largest', 'volcanic', 'eruptions', 'to', 'happen', 'in', 'north', 'america', '.', 'Empty', 'the', 'magma', 'chamber', 'and', 'the', 'surrounding', 'cross', 'collapsed', '.', 'The', 'last', 'large', 'eruption', 'about', '760,000', 'years', 'ago', 'left', 'bits', 'of', 'ash', 'and', 'pumice', 'strewn', 'across', 'most', 'of', 'the', 'western', 'united', 'states', '.', 'There', \"'s\", 'still', 'an', 'active', 'magma', 'chamber', 'under', 'the', 'caldera', 'which', 'releases', 'carbon', 'dioxide', 'gases', 'and', 'hot', 'water', 'at', 'numerous', 'locations', 'around', 'the', 'rim', '.', 'It', 'has', 'been', 'classified', 'as', 'one', 'of', 'the', 'largest', 'volcanic', 'centers', 'in', 'north', 'america', '.', 'The', 'most', 'recent', 'eruptions', 'were', 'those', 'that', 'produced', 'phantom', 'crater', 'and', 'the', 'innocrators', '.', '500', 'to', '600', 'years', 'ago', '.', 'Let', \"'s\", 'leave', 'this', 'unique', 'volcanic', 'region', 'and', 'return', 'to', 'the', 'remnants', 'of', 'the', 'ancient', 'subduction', 'zone', 'volcanoes', 'now', 'exposed', 'as', 'granite', 'in', 'the', 'central', 'and', 'western', 'sierras', '.', 'If', 'you', 'want', 'to', 'experience', 'some', 'of', 'this', 'granite', 'closer', 'to', 'home', '.', 'The', 'san', 'andreas', 'fault', 'has', 'done', 'a', 'great', 'job', 'of', 'moving', 'rocks', 'around', 'in', 'the', 'state', '.', 'As', 'a', 'result', 'of', 'the', 'transform', 'motion', 'sections', 'of', 'the', 'southern', 'sierra', 'nevada', 'granite', 'were', 'separated', 'from', 'their', 'origination', 'spot', 'and', 'carried', 'northwards', '.', 'We', 'see', 'them', 'today', 'as', 'far', 'north', 'as', 'point', 'raise', '.', 'They', 'also', 'make', 'up', 'the', 'rock', 'of', 'montara', 'mountain', '.', 'On', 'the', 'rock', 'of', 'the', 'fairlawn', 'islands', '.', 'Pause', 'now', '.', 'What', 'about', 'the', 'rest', 'of', 'the', 'rock', 'around', 'us', 'where', 'did', 'that', 'come', 'from', '.', 'While', 'some', 'of', 'the', 'rock', 'that', 'makes', 'up', 'the', 'santa', 'cruz', 'mountains', 'in', 'the', 'hills', 'of', 'san', 'francisco', '.', 'Comes', 'from', 'recent', 'deposition', 'of', 'coastal', 'settlements', 'during', 'changing', 'sea', 'levels', 'in', 'ice', 'ages', 'the', 'majority', 'of', 'it', 'consists', 'of', 'individual', 'blocks', 'of', 'terrains', 'that', 'were', 'created', 'during', 'the', 'past', 'periods', 'of', 'subduction', '.', 'Prior', 'to', 'the', 'collision', 'of', 'a', 'mid', '-', 'ocean', 'ridge', 'with', 'the', 'subduction', 'zones', 'there', 'were', 'hundreds', 'of', 'millions', 'of', 'years', 'of', 'active', 'subduction', '.', 'During', 'that', 'time', 'ocean', 'crust', 'was', 'carried', 'into', 'the', 'subduction', 'zones', 'and', 'portions', 'of', 'what', 'it', 'carried', 'were', 'scraped', 'off', 'and', 'attached', 'to', 'the', 'edge', 'of', 'the', 'continent', '.', 'Extending', 'the', 'continent', 'westward', 'in', 'a', 'paper', 'mache', 'style', 'sequence', 'of', 'addition', 'or', 'accretion', '.', 'Accreted', 'material', 'can', 'include', 'ocean', 'sediment', 'that', 'got', 'scraped', 'off', 'the', 'top', 'of', 'the', 'subducting', 'plate', '.', 'Continental', 'settlement', 'that', 'would', 'have', 'poured', 'off', 'the', 'continental', 'shelf', 'into', 'the', 'trench', 'ocean', 'sea', 'mounts', 'or', 'islands', 'that', 'would', 'have', 'gotten', 'stuck', 'in', 'a', 'trench', 'and', 'scraped', 'off', 'sections', 'of', 'entire', 'oceanic', 'crust', '.', 'And', 'metamorphic', 'rocks', 'produced', 'during', 'collision', 'and', 'subduction', '.', 'As', 'you', 'can', 'see', 'play', 'tectonics', 'has', 'had', 'a', 'huge', 'impact', 'on', 'the', 'past', 'and', 'present', 'landscape', 'of', 'california', '.', 'It', 'produces', 'many', 'of', 'our', 'major', 'geologic', 'hazards', 'and', 'it', 'has', 'rafted', 'in', 'and', 'combined', 'the', 'very', 'land', 'masses', 'that', 'now', 'make', 'up', 'our', 'state', '.', 'Take', 'a', 'field', 'trip', 'to', 'one', 'of', 'these', 'nearby', 'locations', '.', 'Where', 'you', 'can', 'see', 'the', 'evidence', 'and', 'walk', 'on', 'the', 'old', 'surfaces', 'yourself', '.', 'Pause', 'now', '.', 'For', 'more', 'information', 'and', 'more', 'detail', 'continue', 'on', 'to', 'the', 'next', 'video', 'in', 'this', 'series', '.']\n"
          ]
        }
      ]
    },
    {
      "cell_type": "code",
      "source": [
        "doc"
      ],
      "metadata": {
        "colab": {
          "base_uri": "https://localhost:8080/"
        },
        "id": "NHmcVVg7JNCT",
        "outputId": "4cdec371-7d07-49fa-ee9f-18df73b555cc"
      },
      "execution_count": 23,
      "outputs": [
        {
          "output_type": "execute_result",
          "data": {
            "text/plain": [
              "So now that we have the basics down for plate tectonics. What it is how it works and how we know about it so what. How does plate tectonics affect life in california or anywhere else for that matter. To answer that let's look at california's current plate tectonic setting. As this map shows we have a number of plate boundaries within or near the state. Notice at the northern part of california we have a divergent plate boundary or an offshore seafloor spreading center where new oceanic crust forms and then is pushed away. Here along the coast that crust collides with and then sinks under northern california. That produces a convergent plate boundary. Where plate with an oceanic crust leading edge collides with a plate with continental crust on the edge. Result. Subduction. A trench earthquakes and inland an active chain of volcanoes. This volcanic chain is known as the cascade mountains. And in california is expressed with the active volcanoes of mount lassen and mount shasta. The most recent eruption in that area was the explosive eruption depicted in this image of mount lassen on may 22nd 1915. What happens to the sea floor spreading center off of northern california. Like all such centers it is offset at regular intervals by transform faults. If we move along the ridge north we hit this transform boundary. That then connects to the continuation of the spreading centers a bit west. If we go back and follow the ridge south we hit another transform. This one offsets the ridge eastward. Where. All the way south to the sea of cortez where it connects with the seafloor spreading centers that are separating the baja peninsula from the rest of mexico. This long transform boundary that connects these two sections of ocean ridge is known as the san andreas fault system. Those of us who live along its path are familiar with its associated earthquake hazards. The loma prieta earthquake in 1989. Was one of the most recent large earthquakes. The magnitude 6.9 earthquake caused significant shaking and damage from santa cruz to san francisco as it released built up stress related to the transform plate motion. Why is the transform so long. What made it this way and why are they seafloor spreading center so close to the continent and not in the middle of the ocean. This animation from the university of santa barbara shows what the pacific ocean look like 80 million years ago when the mid-ocean ridge seafloor spreading center with all its offset transform. Was actually close to the middle of the ocean. Notice what has happened over the past 80 million years. As the atlantic ocean spread north america was pushed westward. The western continental margin of north america was a large long subduction zone with associated volcanoes and terrain accretion. But about 25 million years ago the spreading center began to be overrun. It's abducted under the north american continent. And the san andreas fault system began to form. Pause now. Subduction now over the volcanism of the sierra nevada also ended. But what happened to that spreading center. We can image the crust under north america and see evidence of the old plate still subducting. And right above the spot where we suspect the spreading center would now be we have an area of tens. With a continental crust is being pulled apart. Similar to the break of a pangea. The crystal stretching has created sub parallel mountains and valleys collectively known as the basin and range. Along the westernmost edge the sierra nevada mountains are being pulled up out of the ground causing high rates of erosion and exposure of deep granite rock bodies that are the now frozen remnants of the magma chambers that used to feed the active subduction volcanoes. So walking in glacially carved yosemite gr. He's actually walking along the remnants of old volcanic cores. What else results from the stretching of the basin and range. In addition to exposing the eroded underbelly of ancient sierra and volcanism. The roofing activity is also producing a source of new volcanism to the area. The resulting volcanoes are completely different in character and cause to subduction zone volcanoes. Both by being more of a luminous in their magma. And more explosive and they're eruptive style. Mammoth mountain is one volcanic structure found in the middle of this region known collectively as long valley. In this region of rifting and thin crust mantle rock is melting and rising beneath the surface just like what happens at seafloor spreading divergent plate boundaries. Mantle melts combined with large amounts of crystal. Collecting a giant magma chamber just under the surface. The long valley caldera is a giant crater left behind after one of the largest volcanic eruptions to happen in north america. Empty the magma chamber and the surrounding cross collapsed. The last large eruption about 760,000 years ago left bits of ash and pumice strewn across most of the western united states. There's still an active magma chamber under the caldera which releases carbon dioxide gases and hot water at numerous locations around the rim. It has been classified as one of the largest volcanic centers in north america. The most recent eruptions were those that produced phantom crater and the innocrators. 500 to 600 years ago. Let's leave this unique volcanic region and return to the remnants of the ancient subduction zone volcanoes now exposed as granite in the central and western sierras. If you want to experience some of this granite closer to home. The san andreas fault has done a great job of moving rocks around in the state. As a result of the transform motion sections of the southern sierra nevada granite were separated from their origination spot and carried northwards. We see them today as far north as point raise. They also make up the rock of montara mountain. On the rock of the fairlawn islands. Pause now. What about the rest of the rock around us where did that come from. While some of the rock that makes up the santa cruz mountains in the hills of san francisco. Comes from recent deposition of coastal settlements during changing sea levels in ice ages the majority of it consists of individual blocks of terrains that were created during the past periods of subduction. Prior to the collision of a mid-ocean ridge with the subduction zones there were hundreds of millions of years of active subduction. During that time ocean crust was carried into the subduction zones and portions of what it carried were scraped off and attached to the edge of the continent. Extending the continent westward in a paper mache style sequence of addition or accretion. Accreted material can include ocean sediment that got scraped off the top of the subducting plate. Continental settlement that would have poured off the continental shelf into the trench ocean sea mounts or islands that would have gotten stuck in a trench and scraped off sections of entire oceanic crust. And metamorphic rocks produced during collision and subduction. As you can see play tectonics has had a huge impact on the past and present landscape of california. It produces many of our major geologic hazards and it has rafted in and combined the very land masses that now make up our state. Take a field trip to one of these nearby locations. Where you can see the evidence and walk on the old surfaces yourself. Pause now. For more information and more detail continue on to the next video in this series. "
            ]
          },
          "metadata": {},
          "execution_count": 23
        }
      ]
    },
    {
      "cell_type": "code",
      "source": [
        "# Calculate sentence scores based on word frequency\n",
        "word_frequencies = {}\n",
        "from spacy.lang.en.stop_words import STOP_WORDS\n",
        "from string import punctuation\n",
        "for word in doc:\n",
        "    if word.text.lower() not in STOP_WORDS:\n",
        "        if word.text.lower() not in word_frequencies.keys():\n",
        "            word_frequencies[word.text.lower()] = 1\n",
        "        else:\n",
        "            word_frequencies[word.text.lower()] += 1"
      ],
      "metadata": {
        "id": "qmp6--f7H7ia"
      },
      "execution_count": 24,
      "outputs": []
    },
    {
      "cell_type": "code",
      "source": [
        "STOP_WORDS"
      ],
      "metadata": {
        "colab": {
          "base_uri": "https://localhost:8080/"
        },
        "id": "UVzZeF-JNDze",
        "outputId": "4fd1d485-d849-4ceb-8c54-dcf11643bdf8"
      },
      "execution_count": 25,
      "outputs": [
        {
          "output_type": "execute_result",
          "data": {
            "text/plain": [
              "{\"'d\",\n",
              " \"'ll\",\n",
              " \"'m\",\n",
              " \"'re\",\n",
              " \"'s\",\n",
              " \"'ve\",\n",
              " 'a',\n",
              " 'about',\n",
              " 'above',\n",
              " 'across',\n",
              " 'after',\n",
              " 'afterwards',\n",
              " 'again',\n",
              " 'against',\n",
              " 'all',\n",
              " 'almost',\n",
              " 'alone',\n",
              " 'along',\n",
              " 'already',\n",
              " 'also',\n",
              " 'although',\n",
              " 'always',\n",
              " 'am',\n",
              " 'among',\n",
              " 'amongst',\n",
              " 'amount',\n",
              " 'an',\n",
              " 'and',\n",
              " 'another',\n",
              " 'any',\n",
              " 'anyhow',\n",
              " 'anyone',\n",
              " 'anything',\n",
              " 'anyway',\n",
              " 'anywhere',\n",
              " 'are',\n",
              " 'around',\n",
              " 'as',\n",
              " 'at',\n",
              " 'back',\n",
              " 'be',\n",
              " 'became',\n",
              " 'because',\n",
              " 'become',\n",
              " 'becomes',\n",
              " 'becoming',\n",
              " 'been',\n",
              " 'before',\n",
              " 'beforehand',\n",
              " 'behind',\n",
              " 'being',\n",
              " 'below',\n",
              " 'beside',\n",
              " 'besides',\n",
              " 'between',\n",
              " 'beyond',\n",
              " 'both',\n",
              " 'bottom',\n",
              " 'but',\n",
              " 'by',\n",
              " 'ca',\n",
              " 'call',\n",
              " 'can',\n",
              " 'cannot',\n",
              " 'could',\n",
              " 'did',\n",
              " 'do',\n",
              " 'does',\n",
              " 'doing',\n",
              " 'done',\n",
              " 'down',\n",
              " 'due',\n",
              " 'during',\n",
              " 'each',\n",
              " 'eight',\n",
              " 'either',\n",
              " 'eleven',\n",
              " 'else',\n",
              " 'elsewhere',\n",
              " 'empty',\n",
              " 'enough',\n",
              " 'even',\n",
              " 'ever',\n",
              " 'every',\n",
              " 'everyone',\n",
              " 'everything',\n",
              " 'everywhere',\n",
              " 'except',\n",
              " 'few',\n",
              " 'fifteen',\n",
              " 'fifty',\n",
              " 'first',\n",
              " 'five',\n",
              " 'for',\n",
              " 'former',\n",
              " 'formerly',\n",
              " 'forty',\n",
              " 'four',\n",
              " 'from',\n",
              " 'front',\n",
              " 'full',\n",
              " 'further',\n",
              " 'get',\n",
              " 'give',\n",
              " 'go',\n",
              " 'had',\n",
              " 'has',\n",
              " 'have',\n",
              " 'he',\n",
              " 'hence',\n",
              " 'her',\n",
              " 'here',\n",
              " 'hereafter',\n",
              " 'hereby',\n",
              " 'herein',\n",
              " 'hereupon',\n",
              " 'hers',\n",
              " 'herself',\n",
              " 'him',\n",
              " 'himself',\n",
              " 'his',\n",
              " 'how',\n",
              " 'however',\n",
              " 'hundred',\n",
              " 'i',\n",
              " 'if',\n",
              " 'in',\n",
              " 'indeed',\n",
              " 'into',\n",
              " 'is',\n",
              " 'it',\n",
              " 'its',\n",
              " 'itself',\n",
              " 'just',\n",
              " 'keep',\n",
              " 'last',\n",
              " 'latter',\n",
              " 'latterly',\n",
              " 'least',\n",
              " 'less',\n",
              " 'made',\n",
              " 'make',\n",
              " 'many',\n",
              " 'may',\n",
              " 'me',\n",
              " 'meanwhile',\n",
              " 'might',\n",
              " 'mine',\n",
              " 'more',\n",
              " 'moreover',\n",
              " 'most',\n",
              " 'mostly',\n",
              " 'move',\n",
              " 'much',\n",
              " 'must',\n",
              " 'my',\n",
              " 'myself',\n",
              " \"n't\",\n",
              " 'name',\n",
              " 'namely',\n",
              " 'neither',\n",
              " 'never',\n",
              " 'nevertheless',\n",
              " 'next',\n",
              " 'nine',\n",
              " 'no',\n",
              " 'nobody',\n",
              " 'none',\n",
              " 'noone',\n",
              " 'nor',\n",
              " 'not',\n",
              " 'nothing',\n",
              " 'now',\n",
              " 'nowhere',\n",
              " 'n‘t',\n",
              " 'n’t',\n",
              " 'of',\n",
              " 'off',\n",
              " 'often',\n",
              " 'on',\n",
              " 'once',\n",
              " 'one',\n",
              " 'only',\n",
              " 'onto',\n",
              " 'or',\n",
              " 'other',\n",
              " 'others',\n",
              " 'otherwise',\n",
              " 'our',\n",
              " 'ours',\n",
              " 'ourselves',\n",
              " 'out',\n",
              " 'over',\n",
              " 'own',\n",
              " 'part',\n",
              " 'per',\n",
              " 'perhaps',\n",
              " 'please',\n",
              " 'put',\n",
              " 'quite',\n",
              " 'rather',\n",
              " 're',\n",
              " 'really',\n",
              " 'regarding',\n",
              " 'same',\n",
              " 'say',\n",
              " 'see',\n",
              " 'seem',\n",
              " 'seemed',\n",
              " 'seeming',\n",
              " 'seems',\n",
              " 'serious',\n",
              " 'several',\n",
              " 'she',\n",
              " 'should',\n",
              " 'show',\n",
              " 'side',\n",
              " 'since',\n",
              " 'six',\n",
              " 'sixty',\n",
              " 'so',\n",
              " 'some',\n",
              " 'somehow',\n",
              " 'someone',\n",
              " 'something',\n",
              " 'sometime',\n",
              " 'sometimes',\n",
              " 'somewhere',\n",
              " 'still',\n",
              " 'such',\n",
              " 'take',\n",
              " 'ten',\n",
              " 'than',\n",
              " 'that',\n",
              " 'the',\n",
              " 'their',\n",
              " 'them',\n",
              " 'themselves',\n",
              " 'then',\n",
              " 'thence',\n",
              " 'there',\n",
              " 'thereafter',\n",
              " 'thereby',\n",
              " 'therefore',\n",
              " 'therein',\n",
              " 'thereupon',\n",
              " 'these',\n",
              " 'they',\n",
              " 'third',\n",
              " 'this',\n",
              " 'those',\n",
              " 'though',\n",
              " 'three',\n",
              " 'through',\n",
              " 'throughout',\n",
              " 'thru',\n",
              " 'thus',\n",
              " 'to',\n",
              " 'together',\n",
              " 'too',\n",
              " 'top',\n",
              " 'toward',\n",
              " 'towards',\n",
              " 'twelve',\n",
              " 'twenty',\n",
              " 'two',\n",
              " 'under',\n",
              " 'unless',\n",
              " 'until',\n",
              " 'up',\n",
              " 'upon',\n",
              " 'us',\n",
              " 'used',\n",
              " 'using',\n",
              " 'various',\n",
              " 'very',\n",
              " 'via',\n",
              " 'was',\n",
              " 'we',\n",
              " 'well',\n",
              " 'were',\n",
              " 'what',\n",
              " 'whatever',\n",
              " 'when',\n",
              " 'whence',\n",
              " 'whenever',\n",
              " 'where',\n",
              " 'whereafter',\n",
              " 'whereas',\n",
              " 'whereby',\n",
              " 'wherein',\n",
              " 'whereupon',\n",
              " 'wherever',\n",
              " 'whether',\n",
              " 'which',\n",
              " 'while',\n",
              " 'whither',\n",
              " 'who',\n",
              " 'whoever',\n",
              " 'whole',\n",
              " 'whom',\n",
              " 'whose',\n",
              " 'why',\n",
              " 'will',\n",
              " 'with',\n",
              " 'within',\n",
              " 'without',\n",
              " 'would',\n",
              " 'yet',\n",
              " 'you',\n",
              " 'your',\n",
              " 'yours',\n",
              " 'yourself',\n",
              " 'yourselves',\n",
              " '‘d',\n",
              " '‘ll',\n",
              " '‘m',\n",
              " '‘re',\n",
              " '‘s',\n",
              " '‘ve',\n",
              " '’d',\n",
              " '’ll',\n",
              " '’m',\n",
              " '’re',\n",
              " '’s',\n",
              " '’ve'}"
            ]
          },
          "metadata": {},
          "execution_count": 25
        }
      ]
    },
    {
      "cell_type": "code",
      "source": [
        "word_frequencies"
      ],
      "metadata": {
        "colab": {
          "base_uri": "https://localhost:8080/"
        },
        "id": "i-I-jJJeMZpQ",
        "outputId": "cbe07806-75ba-47e8-d7fc-7c170aad5a29"
      },
      "execution_count": 26,
      "outputs": [
        {
          "output_type": "execute_result",
          "data": {
            "text/plain": [
              "{'basics': 1,\n",
              " 'plate': 12,\n",
              " 'tectonics': 3,\n",
              " '.': 89,\n",
              " 'works': 1,\n",
              " 'know': 1,\n",
              " 'affect': 1,\n",
              " 'life': 1,\n",
              " 'california': 7,\n",
              " 'matter': 1,\n",
              " 'answer': 1,\n",
              " 'let': 2,\n",
              " 'look': 2,\n",
              " 'current': 1,\n",
              " 'tectonic': 1,\n",
              " 'setting': 1,\n",
              " 'map': 1,\n",
              " 'shows': 2,\n",
              " 'number': 1,\n",
              " 'boundaries': 2,\n",
              " 'near': 1,\n",
              " 'state': 3,\n",
              " 'notice': 2,\n",
              " 'northern': 3,\n",
              " 'divergent': 2,\n",
              " 'boundary': 4,\n",
              " 'offshore': 1,\n",
              " 'seafloor': 5,\n",
              " 'spreading': 10,\n",
              " 'center': 7,\n",
              " 'new': 2,\n",
              " 'oceanic': 3,\n",
              " 'crust': 9,\n",
              " 'forms': 1,\n",
              " 'pushed': 2,\n",
              " 'away': 1,\n",
              " 'coast': 1,\n",
              " 'collides': 2,\n",
              " 'sinks': 1,\n",
              " 'produces': 2,\n",
              " 'convergent': 1,\n",
              " 'leading': 1,\n",
              " 'edge': 4,\n",
              " 'continental': 5,\n",
              " 'result': 2,\n",
              " 'subduction': 11,\n",
              " 'trench': 3,\n",
              " 'earthquakes': 2,\n",
              " 'inland': 1,\n",
              " 'active': 5,\n",
              " 'chain': 2,\n",
              " 'volcanoes': 7,\n",
              " 'volcanic': 6,\n",
              " 'known': 4,\n",
              " 'cascade': 1,\n",
              " 'mountains': 4,\n",
              " 'expressed': 1,\n",
              " 'mount': 3,\n",
              " 'lassen': 2,\n",
              " 'shasta': 1,\n",
              " 'recent': 4,\n",
              " 'eruption': 3,\n",
              " 'area': 3,\n",
              " 'explosive': 2,\n",
              " 'depicted': 1,\n",
              " 'image': 2,\n",
              " '22nd': 1,\n",
              " '1915': 1,\n",
              " 'happens': 2,\n",
              " 'sea': 4,\n",
              " 'floor': 1,\n",
              " 'like': 3,\n",
              " 'centers': 4,\n",
              " 'offset': 2,\n",
              " 'regular': 1,\n",
              " 'intervals': 1,\n",
              " 'transform': 8,\n",
              " 'faults': 1,\n",
              " 'ridge': 6,\n",
              " 'north': 8,\n",
              " 'hit': 2,\n",
              " 'connects': 3,\n",
              " 'continuation': 1,\n",
              " 'bit': 1,\n",
              " 'west': 1,\n",
              " 'follow': 1,\n",
              " 'south': 2,\n",
              " 'offsets': 1,\n",
              " 'eastward': 1,\n",
              " 'way': 2,\n",
              " 'cortez': 1,\n",
              " 'separating': 1,\n",
              " 'baja': 1,\n",
              " 'peninsula': 1,\n",
              " 'rest': 2,\n",
              " 'mexico': 1,\n",
              " 'long': 5,\n",
              " 'sections': 3,\n",
              " 'ocean': 10,\n",
              " 'san': 5,\n",
              " 'andreas': 3,\n",
              " 'fault': 3,\n",
              " 'system': 2,\n",
              " 'live': 1,\n",
              " 'path': 1,\n",
              " 'familiar': 1,\n",
              " 'associated': 2,\n",
              " 'earthquake': 3,\n",
              " 'hazards': 2,\n",
              " 'loma': 1,\n",
              " 'prieta': 1,\n",
              " '1989': 1,\n",
              " 'large': 4,\n",
              " 'magnitude': 1,\n",
              " '6.9': 1,\n",
              " 'caused': 1,\n",
              " 'significant': 1,\n",
              " 'shaking': 1,\n",
              " 'damage': 1,\n",
              " 'santa': 3,\n",
              " 'cruz': 2,\n",
              " 'francisco': 2,\n",
              " 'released': 1,\n",
              " 'built': 1,\n",
              " 'stress': 1,\n",
              " 'related': 1,\n",
              " 'motion': 2,\n",
              " 'close': 2,\n",
              " 'continent': 4,\n",
              " 'middle': 3,\n",
              " 'animation': 1,\n",
              " 'university': 1,\n",
              " 'barbara': 1,\n",
              " 'pacific': 1,\n",
              " '80': 2,\n",
              " 'million': 3,\n",
              " 'years': 6,\n",
              " 'ago': 4,\n",
              " 'mid': 2,\n",
              " '-': 2,\n",
              " 'actually': 2,\n",
              " 'happened': 2,\n",
              " 'past': 3,\n",
              " 'atlantic': 1,\n",
              " 'spread': 1,\n",
              " 'america': 5,\n",
              " 'westward': 2,\n",
              " 'western': 3,\n",
              " 'margin': 1,\n",
              " 'zone': 3,\n",
              " 'terrain': 1,\n",
              " 'accretion': 2,\n",
              " '25': 1,\n",
              " 'began': 2,\n",
              " 'overrun': 1,\n",
              " 'abducted': 1,\n",
              " 'american': 1,\n",
              " 'form': 1,\n",
              " 'pause': 3,\n",
              " 'volcanism': 3,\n",
              " 'sierra': 4,\n",
              " 'nevada': 3,\n",
              " 'ended': 1,\n",
              " 'evidence': 2,\n",
              " 'old': 3,\n",
              " 'subducting': 2,\n",
              " 'right': 1,\n",
              " 'spot': 2,\n",
              " 'suspect': 1,\n",
              " 'tens': 1,\n",
              " 'pulled': 2,\n",
              " 'apart': 1,\n",
              " 'similar': 1,\n",
              " 'break': 1,\n",
              " 'pangea': 1,\n",
              " 'crystal': 2,\n",
              " 'stretching': 2,\n",
              " 'created': 2,\n",
              " 'sub': 1,\n",
              " 'parallel': 1,\n",
              " 'valleys': 1,\n",
              " 'collectively': 2,\n",
              " 'basin': 2,\n",
              " 'range': 2,\n",
              " 'westernmost': 1,\n",
              " 'ground': 1,\n",
              " 'causing': 1,\n",
              " 'high': 1,\n",
              " 'rates': 1,\n",
              " 'erosion': 1,\n",
              " 'exposure': 1,\n",
              " 'deep': 1,\n",
              " 'granite': 4,\n",
              " 'rock': 6,\n",
              " 'bodies': 1,\n",
              " 'frozen': 1,\n",
              " 'remnants': 3,\n",
              " 'magma': 5,\n",
              " 'chambers': 1,\n",
              " 'feed': 1,\n",
              " 'walking': 2,\n",
              " 'glacially': 1,\n",
              " 'carved': 1,\n",
              " 'yosemite': 1,\n",
              " 'gr': 1,\n",
              " 'cores': 1,\n",
              " 'results': 1,\n",
              " 'addition': 2,\n",
              " 'exposing': 1,\n",
              " 'eroded': 1,\n",
              " 'underbelly': 1,\n",
              " 'ancient': 2,\n",
              " 'roofing': 1,\n",
              " 'activity': 1,\n",
              " 'producing': 1,\n",
              " 'source': 1,\n",
              " 'resulting': 1,\n",
              " 'completely': 1,\n",
              " 'different': 1,\n",
              " 'character': 1,\n",
              " 'cause': 1,\n",
              " 'luminous': 1,\n",
              " 'eruptive': 1,\n",
              " 'style': 2,\n",
              " 'mammoth': 1,\n",
              " 'mountain': 2,\n",
              " 'structure': 1,\n",
              " 'found': 1,\n",
              " 'region': 3,\n",
              " 'valley': 2,\n",
              " 'rifting': 1,\n",
              " 'thin': 1,\n",
              " 'mantle': 2,\n",
              " 'melting': 1,\n",
              " 'rising': 1,\n",
              " 'beneath': 1,\n",
              " 'surface': 2,\n",
              " 'melts': 1,\n",
              " 'combined': 2,\n",
              " 'amounts': 1,\n",
              " 'collecting': 1,\n",
              " 'giant': 2,\n",
              " 'chamber': 3,\n",
              " 'caldera': 2,\n",
              " 'crater': 2,\n",
              " 'left': 2,\n",
              " 'largest': 2,\n",
              " 'eruptions': 2,\n",
              " 'happen': 1,\n",
              " 'surrounding': 1,\n",
              " 'cross': 1,\n",
              " 'collapsed': 1,\n",
              " '760,000': 1,\n",
              " 'bits': 1,\n",
              " 'ash': 1,\n",
              " 'pumice': 1,\n",
              " 'strewn': 1,\n",
              " 'united': 1,\n",
              " 'states': 1,\n",
              " 'releases': 1,\n",
              " 'carbon': 1,\n",
              " 'dioxide': 1,\n",
              " 'gases': 1,\n",
              " 'hot': 1,\n",
              " 'water': 1,\n",
              " 'numerous': 1,\n",
              " 'locations': 2,\n",
              " 'rim': 1,\n",
              " 'classified': 1,\n",
              " 'produced': 2,\n",
              " 'phantom': 1,\n",
              " 'innocrators': 1,\n",
              " '500': 1,\n",
              " '600': 1,\n",
              " 'leave': 1,\n",
              " 'unique': 1,\n",
              " 'return': 1,\n",
              " 'exposed': 1,\n",
              " 'central': 1,\n",
              " 'sierras': 1,\n",
              " 'want': 1,\n",
              " 'experience': 1,\n",
              " 'closer': 1,\n",
              " 'home': 1,\n",
              " 'great': 1,\n",
              " 'job': 1,\n",
              " 'moving': 1,\n",
              " 'rocks': 2,\n",
              " 'southern': 1,\n",
              " 'separated': 1,\n",
              " 'origination': 1,\n",
              " 'carried': 3,\n",
              " 'northwards': 1,\n",
              " 'today': 1,\n",
              " 'far': 1,\n",
              " 'point': 1,\n",
              " 'raise': 1,\n",
              " 'montara': 1,\n",
              " 'fairlawn': 1,\n",
              " 'islands': 2,\n",
              " 'come': 1,\n",
              " 'makes': 1,\n",
              " 'hills': 1,\n",
              " 'comes': 1,\n",
              " 'deposition': 1,\n",
              " 'coastal': 1,\n",
              " 'settlements': 1,\n",
              " 'changing': 1,\n",
              " 'levels': 1,\n",
              " 'ice': 1,\n",
              " 'ages': 1,\n",
              " 'majority': 1,\n",
              " 'consists': 1,\n",
              " 'individual': 1,\n",
              " 'blocks': 1,\n",
              " 'terrains': 1,\n",
              " 'periods': 1,\n",
              " 'prior': 1,\n",
              " 'collision': 2,\n",
              " 'zones': 2,\n",
              " 'hundreds': 1,\n",
              " 'millions': 1,\n",
              " 'time': 1,\n",
              " 'portions': 1,\n",
              " 'scraped': 3,\n",
              " 'attached': 1,\n",
              " 'extending': 1,\n",
              " 'paper': 1,\n",
              " 'mache': 1,\n",
              " 'sequence': 1,\n",
              " 'accreted': 1,\n",
              " 'material': 1,\n",
              " 'include': 1,\n",
              " 'sediment': 1,\n",
              " 'got': 1,\n",
              " 'settlement': 1,\n",
              " 'poured': 1,\n",
              " 'shelf': 1,\n",
              " 'mounts': 1,\n",
              " 'gotten': 1,\n",
              " 'stuck': 1,\n",
              " 'entire': 1,\n",
              " 'metamorphic': 1,\n",
              " 'play': 1,\n",
              " 'huge': 1,\n",
              " 'impact': 1,\n",
              " 'present': 1,\n",
              " 'landscape': 1,\n",
              " 'major': 1,\n",
              " 'geologic': 1,\n",
              " 'rafted': 1,\n",
              " 'land': 1,\n",
              " 'masses': 1,\n",
              " 'field': 1,\n",
              " 'trip': 1,\n",
              " 'nearby': 1,\n",
              " 'walk': 1,\n",
              " 'surfaces': 1,\n",
              " 'information': 1,\n",
              " 'detail': 1,\n",
              " 'continue': 1,\n",
              " 'video': 1,\n",
              " 'series': 1}"
            ]
          },
          "metadata": {},
          "execution_count": 26
        }
      ]
    },
    {
      "cell_type": "code",
      "source": [
        "max_frequency = max(word_frequencies.values())\n",
        "for word in word_frequencies.keys():\n",
        "    word_frequencies[word] = (word_frequencies[word]/max_frequency)"
      ],
      "metadata": {
        "id": "EVAnx2X_H9L3"
      },
      "execution_count": 27,
      "outputs": []
    },
    {
      "cell_type": "code",
      "source": [
        "max_frequency"
      ],
      "metadata": {
        "colab": {
          "base_uri": "https://localhost:8080/"
        },
        "id": "UWbx8nkaMeIf",
        "outputId": "77e238af-ea3e-4db8-b027-89bc262bea71"
      },
      "execution_count": 28,
      "outputs": [
        {
          "output_type": "execute_result",
          "data": {
            "text/plain": [
              "89"
            ]
          },
          "metadata": {},
          "execution_count": 28
        }
      ]
    },
    {
      "cell_type": "code",
      "source": [
        "sentence_scores = {}\n",
        "for sent in sentences:\n",
        "    for word in sent.split():\n",
        "        if word.lower() in word_frequencies.keys():\n",
        "            if len(sent.split(' ')) < 30:\n",
        "                if sent not in sentence_scores.keys():\n",
        "                    sentence_scores[sent] = word_frequencies[word.lower()]\n",
        "                else:\n",
        "                    sentence_scores[sent] += word_frequencies[word.lower()]"
      ],
      "metadata": {
        "id": "gYOhV0y7H_IV"
      },
      "execution_count": 29,
      "outputs": []
    },
    {
      "cell_type": "code",
      "source": [
        "sentence_scores"
      ],
      "metadata": {
        "colab": {
          "base_uri": "https://localhost:8080/"
        },
        "id": "9D4aZV4FMoFu",
        "outputId": "82f5b85a-07be-4ec2-fd95-0c13d0be5558"
      },
      "execution_count": 30,
      "outputs": [
        {
          "output_type": "execute_result",
          "data": {
            "text/plain": [
              "{'So now that we have the basics down for plate tectonics.': 0.14606741573033707,\n",
              " 'What it is how it works and how we know about it': 0.02247191011235955,\n",
              " 'How does plate tectonics affect life in california or anywhere else for that matter.': 0.2696629213483146,\n",
              " \"To answer that let's look at california's current plate tectonic setting.\": 0.19101123595505617,\n",
              " 'As this map shows we have a number of plate boundaries within or near the state.': 0.21348314606741572,\n",
              " 'Notice at the northern part of california we have a divergent plate boundary or an offshore seafloor spreading center where new oceanic crust forms and then is pushed away.': 0.7865168539325842,\n",
              " 'Here along the coast that crust collides with and then sinks under northern california.': 0.1797752808988764,\n",
              " 'That produces a convergent plate boundary.': 0.16853932584269662,\n",
              " 'Where plate with an oceanic crust leading edge collides with a plate with continental crust on the edge.': 0.6404494382022472,\n",
              " 'A trench earthquakes and inland an active chain of volcanoes.': 0.14606741573033707,\n",
              " 'This volcanic chain is known as the cascade mountains.': 0.14606741573033707,\n",
              " 'And in california is expressed with the active volcanoes of mount lassen and mount shasta.': 0.3146067415730337,\n",
              " 'The most recent eruption in that area was the explosive eruption depicted in this image of mount lassen on may 22nd 1915.': 0.2696629213483146,\n",
              " 'What happens to the sea floor spreading center off of northern california.': 0.3033707865168539,\n",
              " 'Like all such centers it is offset at regular intervals by transform faults.': 0.21348314606741572,\n",
              " 'If we move along the ridge north we hit this transform boundary.': 0.2696629213483146,\n",
              " 'That then connects to the continuation of the spreading centers a bit west.': 0.21348314606741572,\n",
              " 'If we go back and follow the ridge south we hit another transform.': 0.12359550561797752,\n",
              " 'This one offsets the ridge eastward.': 0.07865168539325842,\n",
              " 'All the way south to the sea of cortez where it connects with the seafloor spreading centers that are separating the baja peninsula from the rest of mexico.': 0.40449438202247195,\n",
              " 'This long transform boundary that connects these two sections of ocean ridge is known as the san andreas fault system.': 0.6067415730337078,\n",
              " 'Those of us who live along its path are familiar with its associated earthquake hazards.': 0.0898876404494382,\n",
              " 'The loma prieta earthquake in 1989.': 0.056179775280898875,\n",
              " 'Was one of the most recent large earthquakes.': 0.0898876404494382,\n",
              " 'The magnitude 6.9 earthquake caused significant shaking and damage from santa cruz to san francisco as it released built up stress related to the transform plate motion.': 0.5056179775280899,\n",
              " 'Why is the transform so long.': 0.0898876404494382,\n",
              " 'What made it this way and why are they seafloor spreading center so close to the continent and not in the middle of the ocean.': 0.3707865168539326,\n",
              " 'Was actually close to the middle of the ocean.': 0.07865168539325842,\n",
              " 'Notice what has happened over the past 80 million years.': 0.1348314606741573,\n",
              " 'As the atlantic ocean spread north america was pushed westward.': 0.30337078651685395,\n",
              " 'The western continental margin of north america was a large long subduction zone with associated volcanoes and terrain accretion.': 0.6179775280898876,\n",
              " 'But about 25 million years ago the spreading center began to be overrun.': 0.37078651685393255,\n",
              " \"It's abducted under the north american continent.\": 0.11235955056179775,\n",
              " 'And the san andreas fault system began to form.': 0.16853932584269662,\n",
              " 'Pause now.': 0.10112359550561797,\n",
              " 'Subduction now over the volcanism of the sierra nevada also ended.': 0.23595505617977527,\n",
              " 'But what happened to that spreading center.': 0.1348314606741573,\n",
              " 'We can image the crust under north america and see evidence of the old plate still subducting.': 0.4606741573033708,\n",
              " 'And right above the spot where we suspect the spreading center would now be we have an area of tens.': 0.2696629213483146,\n",
              " 'With a continental crust is being pulled apart.': 0.1797752808988764,\n",
              " 'Similar to the break of a pangea.': 0.02247191011235955,\n",
              " 'The crystal stretching has created sub parallel mountains and valleys collectively known as the basin and range.': 0.23595505617977527,\n",
              " 'So walking in glacially carved yosemite gr.': 0.056179775280898875,\n",
              " \"He's actually walking along the remnants of old volcanic cores.\": 0.1797752808988764,\n",
              " 'What else results from the stretching of the basin and range.': 0.056179775280898875,\n",
              " 'In addition to exposing the eroded underbelly of ancient sierra and volcanism.': 0.12359550561797752,\n",
              " 'The roofing activity is also producing a source of new volcanism to the area.': 0.10112359550561797,\n",
              " 'The resulting volcanoes are completely different in character and cause to subduction zone volcanoes.': 0.2921348314606741,\n",
              " 'Both by being more of a luminous in their magma.': 0.011235955056179775,\n",
              " \"And more explosive and they're eruptive style.\": 0.033707865168539325,\n",
              " 'Mammoth mountain is one volcanic structure found in the middle of this region known collectively as long valley.': 0.3146067415730337,\n",
              " 'In this region of rifting and thin crust mantle rock is melting and rising beneath the surface just like what happens at seafloor spreading divergent plate boundaries.': 0.6853932584269663,\n",
              " 'Mantle melts combined with large amounts of crystal.': 0.11235955056179775,\n",
              " 'Collecting a giant magma chamber just under the surface.': 0.12359550561797752,\n",
              " 'The long valley caldera is a giant crater left behind after one of the largest volcanic eruptions to happen in north america.': 0.3820224719101123,\n",
              " 'Empty the magma chamber and the surrounding cross collapsed.': 0.11235955056179775,\n",
              " 'The last large eruption about 760,000 years ago left bits of ash and pumice strewn across most of the western united states.': 0.3146067415730337,\n",
              " \"There's still an active magma chamber under the caldera which releases carbon dioxide gases and hot water at numerous locations around the rim.\": 0.2696629213483146,\n",
              " 'It has been classified as one of the largest volcanic centers in north america.': 0.23595505617977527,\n",
              " 'The most recent eruptions were those that produced phantom crater and the innocrators.': 0.12359550561797752,\n",
              " '500 to 600 years ago.': 0.0898876404494382,\n",
              " \"Let's leave this unique volcanic region and return to the remnants of the ancient subduction zone volcanoes now exposed as granite in the central and western sierras.\": 0.5280898876404494,\n",
              " 'If you want to experience some of this granite closer to home.': 0.07865168539325842,\n",
              " 'The san andreas fault has done a great job of moving rocks around in the state.': 0.1797752808988764,\n",
              " 'As a result of the transform motion sections of the southern sierra nevada granite were separated from their origination spot and carried northwards.': 0.3820224719101124,\n",
              " 'We see them today as far north as point raise.': 0.12359550561797752,\n",
              " 'They also make up the rock of montara mountain.': 0.07865168539325842,\n",
              " 'On the rock of the fairlawn islands.': 0.07865168539325842,\n",
              " 'What about the rest of the rock around us where did that come from.': 0.10112359550561797,\n",
              " 'While some of the rock that makes up the santa cruz mountains in the hills of san francisco.': 0.24719101123595505,\n",
              " 'Prior to the collision of a mid-ocean ridge with the subduction zones there were hundreds of millions of years of active subduction.': 0.3932584269662921,\n",
              " 'During that time ocean crust was carried into the subduction zones and portions of what it carried were scraped off and attached to the edge of the continent.': 0.5393258426966291,\n",
              " 'Extending the continent westward in a paper mache style sequence of addition or accretion.': 0.15730337078651685,\n",
              " 'Accreted material can include ocean sediment that got scraped off the top of the subducting plate.': 0.2247191011235955,\n",
              " 'And metamorphic rocks produced during collision and subduction.': 0.07865168539325842,\n",
              " 'As you can see play tectonics has had a huge impact on the past and present landscape of california.': 0.12359550561797752,\n",
              " 'It produces many of our major geologic hazards and it has rafted in and combined the very land masses that now make up our state.': 0.12359550561797752,\n",
              " 'Take a field trip to one of these nearby locations.': 0.033707865168539325,\n",
              " 'Where you can see the evidence and walk on the old surfaces yourself.': 0.07865168539325842,\n",
              " 'For more information and more detail continue on to the next video in this series.': 0.0449438202247191}"
            ]
          },
          "metadata": {},
          "execution_count": 30
        }
      ]
    },
    {
      "cell_type": "code",
      "source": [
        "# Set summarization parameters\n",
        "percentage = int(input(\"enter how much percentage you need to read\")) # user-specified percentage\n",
        "max_length = len(sentences) * percentage // 100 # calculate max length of summary\n",
        "\n",
        "# Generate summary\n",
        "summary_sentences = heapq.nlargest(max_length, sentence_scores, key=sentence_scores.get)\n",
        "summary = \" \".join(str(sent) for sent in summary_sentences)\n",
        "print(summary)\n",
        "# Save summary to file\n",
        "with open(\"/content/drive/MyDrive/PROJECTS/video analysis/summary.txt\", \"w\") as f:\n",
        "    f.write(summary)\n"
      ],
      "metadata": {
        "id": "BIU2nDpvHA62",
        "colab": {
          "base_uri": "https://localhost:8080/"
        },
        "outputId": "08a1da79-b6bd-4ef0-cdb6-8778a13e90cc"
      },
      "execution_count": 31,
      "outputs": [
        {
          "output_type": "stream",
          "name": "stdout",
          "text": [
            "enter how much percentage you need to read75\n",
            "Notice at the northern part of california we have a divergent plate boundary or an offshore seafloor spreading center where new oceanic crust forms and then is pushed away. In this region of rifting and thin crust mantle rock is melting and rising beneath the surface just like what happens at seafloor spreading divergent plate boundaries. Where plate with an oceanic crust leading edge collides with a plate with continental crust on the edge. The western continental margin of north america was a large long subduction zone with associated volcanoes and terrain accretion. This long transform boundary that connects these two sections of ocean ridge is known as the san andreas fault system. During that time ocean crust was carried into the subduction zones and portions of what it carried were scraped off and attached to the edge of the continent. Let's leave this unique volcanic region and return to the remnants of the ancient subduction zone volcanoes now exposed as granite in the central and western sierras. The magnitude 6.9 earthquake caused significant shaking and damage from santa cruz to san francisco as it released built up stress related to the transform plate motion. We can image the crust under north america and see evidence of the old plate still subducting. All the way south to the sea of cortez where it connects with the seafloor spreading centers that are separating the baja peninsula from the rest of mexico. Prior to the collision of a mid-ocean ridge with the subduction zones there were hundreds of millions of years of active subduction. As a result of the transform motion sections of the southern sierra nevada granite were separated from their origination spot and carried northwards. The long valley caldera is a giant crater left behind after one of the largest volcanic eruptions to happen in north america. What made it this way and why are they seafloor spreading center so close to the continent and not in the middle of the ocean. But about 25 million years ago the spreading center began to be overrun. And in california is expressed with the active volcanoes of mount lassen and mount shasta. Mammoth mountain is one volcanic structure found in the middle of this region known collectively as long valley. The last large eruption about 760,000 years ago left bits of ash and pumice strewn across most of the western united states. As the atlantic ocean spread north america was pushed westward. What happens to the sea floor spreading center off of northern california. The resulting volcanoes are completely different in character and cause to subduction zone volcanoes. How does plate tectonics affect life in california or anywhere else for that matter. The most recent eruption in that area was the explosive eruption depicted in this image of mount lassen on may 22nd 1915. If we move along the ridge north we hit this transform boundary. And right above the spot where we suspect the spreading center would now be we have an area of tens. There's still an active magma chamber under the caldera which releases carbon dioxide gases and hot water at numerous locations around the rim. While some of the rock that makes up the santa cruz mountains in the hills of san francisco. Subduction now over the volcanism of the sierra nevada also ended. The crystal stretching has created sub parallel mountains and valleys collectively known as the basin and range. It has been classified as one of the largest volcanic centers in north america. Accreted material can include ocean sediment that got scraped off the top of the subducting plate. As this map shows we have a number of plate boundaries within or near the state. Like all such centers it is offset at regular intervals by transform faults. That then connects to the continuation of the spreading centers a bit west. To answer that let's look at california's current plate tectonic setting. Here along the coast that crust collides with and then sinks under northern california. With a continental crust is being pulled apart. He's actually walking along the remnants of old volcanic cores. The san andreas fault has done a great job of moving rocks around in the state. That produces a convergent plate boundary. And the san andreas fault system began to form. Extending the continent westward in a paper mache style sequence of addition or accretion. So now that we have the basics down for plate tectonics. A trench earthquakes and inland an active chain of volcanoes. This volcanic chain is known as the cascade mountains. Notice what has happened over the past 80 million years. But what happened to that spreading center. If we go back and follow the ridge south we hit another transform. In addition to exposing the eroded underbelly of ancient sierra and volcanism. Collecting a giant magma chamber just under the surface. The most recent eruptions were those that produced phantom crater and the innocrators. We see them today as far north as point raise. As you can see play tectonics has had a huge impact on the past and present landscape of california. It produces many of our major geologic hazards and it has rafted in and combined the very land masses that now make up our state. It's abducted under the north american continent. Mantle melts combined with large amounts of crystal. Empty the magma chamber and the surrounding cross collapsed. Pause now. The roofing activity is also producing a source of new volcanism to the area. What about the rest of the rock around us where did that come from. Those of us who live along its path are familiar with its associated earthquake hazards. Was one of the most recent large earthquakes. Why is the transform so long. 500 to 600 years ago. This one offsets the ridge eastward. Was actually close to the middle of the ocean. If you want to experience some of this granite closer to home.\n"
          ]
        }
      ]
    },
    {
      "cell_type": "code",
      "source": [
        "print(summary)"
      ],
      "metadata": {
        "id": "X-4BUaAqGiWX",
        "colab": {
          "base_uri": "https://localhost:8080/"
        },
        "outputId": "1b9670ee-3066-4f55-e6a1-372c969b08f5"
      },
      "execution_count": 32,
      "outputs": [
        {
          "output_type": "stream",
          "name": "stdout",
          "text": [
            "Notice at the northern part of california we have a divergent plate boundary or an offshore seafloor spreading center where new oceanic crust forms and then is pushed away. In this region of rifting and thin crust mantle rock is melting and rising beneath the surface just like what happens at seafloor spreading divergent plate boundaries. Where plate with an oceanic crust leading edge collides with a plate with continental crust on the edge. The western continental margin of north america was a large long subduction zone with associated volcanoes and terrain accretion. This long transform boundary that connects these two sections of ocean ridge is known as the san andreas fault system. During that time ocean crust was carried into the subduction zones and portions of what it carried were scraped off and attached to the edge of the continent. Let's leave this unique volcanic region and return to the remnants of the ancient subduction zone volcanoes now exposed as granite in the central and western sierras. The magnitude 6.9 earthquake caused significant shaking and damage from santa cruz to san francisco as it released built up stress related to the transform plate motion. We can image the crust under north america and see evidence of the old plate still subducting. All the way south to the sea of cortez where it connects with the seafloor spreading centers that are separating the baja peninsula from the rest of mexico. Prior to the collision of a mid-ocean ridge with the subduction zones there were hundreds of millions of years of active subduction. As a result of the transform motion sections of the southern sierra nevada granite were separated from their origination spot and carried northwards. The long valley caldera is a giant crater left behind after one of the largest volcanic eruptions to happen in north america. What made it this way and why are they seafloor spreading center so close to the continent and not in the middle of the ocean. But about 25 million years ago the spreading center began to be overrun. And in california is expressed with the active volcanoes of mount lassen and mount shasta. Mammoth mountain is one volcanic structure found in the middle of this region known collectively as long valley. The last large eruption about 760,000 years ago left bits of ash and pumice strewn across most of the western united states. As the atlantic ocean spread north america was pushed westward. What happens to the sea floor spreading center off of northern california. The resulting volcanoes are completely different in character and cause to subduction zone volcanoes. How does plate tectonics affect life in california or anywhere else for that matter. The most recent eruption in that area was the explosive eruption depicted in this image of mount lassen on may 22nd 1915. If we move along the ridge north we hit this transform boundary. And right above the spot where we suspect the spreading center would now be we have an area of tens. There's still an active magma chamber under the caldera which releases carbon dioxide gases and hot water at numerous locations around the rim. While some of the rock that makes up the santa cruz mountains in the hills of san francisco. Subduction now over the volcanism of the sierra nevada also ended. The crystal stretching has created sub parallel mountains and valleys collectively known as the basin and range. It has been classified as one of the largest volcanic centers in north america. Accreted material can include ocean sediment that got scraped off the top of the subducting plate. As this map shows we have a number of plate boundaries within or near the state. Like all such centers it is offset at regular intervals by transform faults. That then connects to the continuation of the spreading centers a bit west. To answer that let's look at california's current plate tectonic setting. Here along the coast that crust collides with and then sinks under northern california. With a continental crust is being pulled apart. He's actually walking along the remnants of old volcanic cores. The san andreas fault has done a great job of moving rocks around in the state. That produces a convergent plate boundary. And the san andreas fault system began to form. Extending the continent westward in a paper mache style sequence of addition or accretion. So now that we have the basics down for plate tectonics. A trench earthquakes and inland an active chain of volcanoes. This volcanic chain is known as the cascade mountains. Notice what has happened over the past 80 million years. But what happened to that spreading center. If we go back and follow the ridge south we hit another transform. In addition to exposing the eroded underbelly of ancient sierra and volcanism. Collecting a giant magma chamber just under the surface. The most recent eruptions were those that produced phantom crater and the innocrators. We see them today as far north as point raise. As you can see play tectonics has had a huge impact on the past and present landscape of california. It produces many of our major geologic hazards and it has rafted in and combined the very land masses that now make up our state. It's abducted under the north american continent. Mantle melts combined with large amounts of crystal. Empty the magma chamber and the surrounding cross collapsed. Pause now. The roofing activity is also producing a source of new volcanism to the area. What about the rest of the rock around us where did that come from. Those of us who live along its path are familiar with its associated earthquake hazards. Was one of the most recent large earthquakes. Why is the transform so long. 500 to 600 years ago. This one offsets the ridge eastward. Was actually close to the middle of the ocean. If you want to experience some of this granite closer to home.\n"
          ]
        }
      ]
    },
    {
      "cell_type": "code",
      "source": [
        "len(summary)"
      ],
      "metadata": {
        "id": "JR86qa5_HbDH",
        "colab": {
          "base_uri": "https://localhost:8080/"
        },
        "outputId": "cf3cbf5e-7ed8-426f-8023-afbaaf991c2d"
      },
      "execution_count": 33,
      "outputs": [
        {
          "output_type": "execute_result",
          "data": {
            "text/plain": [
              "5858"
            ]
          },
          "metadata": {},
          "execution_count": 33
        }
      ]
    },
    {
      "cell_type": "code",
      "source": [
        "!pip install rouge"
      ],
      "metadata": {
        "id": "zGOiT6ZtQ96x",
        "colab": {
          "base_uri": "https://localhost:8080/"
        },
        "outputId": "0f29865a-13b6-4d7d-befb-9c980a39323f"
      },
      "execution_count": 34,
      "outputs": [
        {
          "output_type": "stream",
          "name": "stdout",
          "text": [
            "Looking in indexes: https://pypi.org/simple, https://us-python.pkg.dev/colab-wheels/public/simple/\n",
            "Collecting rouge\n",
            "  Downloading rouge-1.0.1-py3-none-any.whl (13 kB)\n",
            "Requirement already satisfied: six in /usr/local/lib/python3.9/dist-packages (from rouge) (1.16.0)\n",
            "Installing collected packages: rouge\n",
            "Successfully installed rouge-1.0.1\n"
          ]
        }
      ]
    },
    {
      "cell_type": "code",
      "source": [
        "\n",
        "from rouge import Rouge\n",
        "# Initialize ROUGE calculator\n",
        "rouge = Rouge()\n",
        "\n",
        "# Calculate ROUGE score\n",
        "scores = rouge.get_scores(summary, transcript)\n",
        "\n",
        "# Print ROUGE-1 score\n",
        "print(\"ROUGE-1 Precision:\", scores[0][\"rouge-1\"][\"p\"])\n",
        "print(\"ROUGE-1 Recall:\", scores[0][\"rouge-1\"][\"r\"])\n",
        "print(\"ROUGE-1 F1-Score:\", scores[0][\"rouge-1\"][\"f\"])\n"
      ],
      "metadata": {
        "id": "l-_RSzHSM0o6",
        "colab": {
          "base_uri": "https://localhost:8080/"
        },
        "outputId": "5f97d4d3-9240-4ce7-d676-7e2ea5acd9e8"
      },
      "execution_count": 35,
      "outputs": [
        {
          "output_type": "stream",
          "name": "stdout",
          "text": [
            "ROUGE-1 Precision: 1.0\n",
            "ROUGE-1 Recall: 0.8333333333333334\n",
            "ROUGE-1 F1-Score: 0.9090909041322315\n"
          ]
        }
      ]
    },
    {
      "cell_type": "code",
      "source": [
        "import nltk\n",
        "nltk.download('stopwords')\n"
      ],
      "metadata": {
        "id": "MNsUdBTuV4Mk",
        "colab": {
          "base_uri": "https://localhost:8080/"
        },
        "outputId": "45f605af-1b79-4ed1-e452-d460fdaa5ab5"
      },
      "execution_count": 36,
      "outputs": [
        {
          "output_type": "stream",
          "name": "stderr",
          "text": [
            "[nltk_data] Downloading package stopwords to /root/nltk_data...\n",
            "[nltk_data]   Unzipping corpora/stopwords.zip.\n"
          ]
        },
        {
          "output_type": "execute_result",
          "data": {
            "text/plain": [
              "True"
            ]
          },
          "metadata": {},
          "execution_count": 36
        }
      ]
    },
    {
      "cell_type": "code",
      "source": [
        "import nltk\n",
        "nltk.download('punkt')\n"
      ],
      "metadata": {
        "id": "_uvp3nN4V58Q",
        "colab": {
          "base_uri": "https://localhost:8080/"
        },
        "outputId": "739538e7-2f30-422a-804b-dc8449aa359e"
      },
      "execution_count": 37,
      "outputs": [
        {
          "output_type": "stream",
          "name": "stderr",
          "text": [
            "[nltk_data] Downloading package punkt to /root/nltk_data...\n",
            "[nltk_data]   Unzipping tokenizers/punkt.zip.\n"
          ]
        },
        {
          "output_type": "execute_result",
          "data": {
            "text/plain": [
              "True"
            ]
          },
          "metadata": {},
          "execution_count": 37
        }
      ]
    },
    {
      "cell_type": "code",
      "source": [
        "pip install python-rake\n"
      ],
      "metadata": {
        "id": "40eYGkc24sdE",
        "colab": {
          "base_uri": "https://localhost:8080/"
        },
        "outputId": "61c51d31-8097-4f0a-d135-e105dac68a65"
      },
      "execution_count": 38,
      "outputs": [
        {
          "output_type": "stream",
          "name": "stdout",
          "text": [
            "Looking in indexes: https://pypi.org/simple, https://us-python.pkg.dev/colab-wheels/public/simple/\n",
            "Collecting python-rake\n",
            "  Downloading python_rake-1.5.0-py3-none-any.whl (14 kB)\n",
            "Installing collected packages: python-rake\n",
            "Successfully installed python-rake-1.5.0\n"
          ]
        }
      ]
    },
    {
      "cell_type": "code",
      "source": [
        "pip install rake-nltk\n"
      ],
      "metadata": {
        "id": "v2FG0d8p41PR",
        "colab": {
          "base_uri": "https://localhost:8080/"
        },
        "outputId": "444759ec-f4f9-4145-f7fb-68fbaa576152"
      },
      "execution_count": 39,
      "outputs": [
        {
          "output_type": "stream",
          "name": "stdout",
          "text": [
            "Looking in indexes: https://pypi.org/simple, https://us-python.pkg.dev/colab-wheels/public/simple/\n",
            "Collecting rake-nltk\n",
            "  Downloading rake_nltk-1.0.6-py3-none-any.whl (9.1 kB)\n",
            "Requirement already satisfied: nltk<4.0.0,>=3.6.2 in /usr/local/lib/python3.9/dist-packages (from rake-nltk) (3.8.1)\n",
            "Requirement already satisfied: click in /usr/local/lib/python3.9/dist-packages (from nltk<4.0.0,>=3.6.2->rake-nltk) (8.1.3)\n",
            "Requirement already satisfied: regex>=2021.8.3 in /usr/local/lib/python3.9/dist-packages (from nltk<4.0.0,>=3.6.2->rake-nltk) (2022.10.31)\n",
            "Requirement already satisfied: joblib in /usr/local/lib/python3.9/dist-packages (from nltk<4.0.0,>=3.6.2->rake-nltk) (1.2.0)\n",
            "Requirement already satisfied: tqdm in /usr/local/lib/python3.9/dist-packages (from nltk<4.0.0,>=3.6.2->rake-nltk) (4.65.0)\n",
            "Installing collected packages: rake-nltk\n",
            "Successfully installed rake-nltk-1.0.6\n"
          ]
        }
      ]
    },
    {
      "cell_type": "code",
      "source": [],
      "metadata": {
        "id": "W1Sm2aaO4sf8"
      },
      "execution_count": 39,
      "outputs": []
    },
    {
      "cell_type": "code",
      "source": [
        "from rake_nltk import Rake\n",
        "\n",
        "r = Rake()\n",
        "# apply RAKE to the transcript\n",
        "r.extract_keywords_from_text(transcript)\n",
        "\n",
        "# get the top 10 keywords\n",
        "keywords = r.get_ranked_phrases_with_scores()[:10]\n",
        "\n",
        "KEYWORDS = [t[1] for t in keywords]\n",
        "print(KEYWORDS)"
      ],
      "metadata": {
        "id": "4UFgupzg4vjn",
        "colab": {
          "base_uri": "https://localhost:8080/"
        },
        "outputId": "26d0824c-eae4-4b3b-c572-97046c67d4fd"
      },
      "execution_count": 40,
      "outputs": [
        {
          "output_type": "stream",
          "name": "stdout",
          "text": [
            "['pacific ocean look like 80 million years ago', '000 years ago left bits', '9 earthquake caused significant shaking', 'san andreas fault system began', 'atlantic ocean spread north america', '25 million years ago', 'seafloor spreading divergent plate boundaries', 'past 80 million years', 'oceanic crust leading edge collides', 'ocean ridge seafloor spreading center']\n"
          ]
        }
      ]
    },
    {
      "cell_type": "code",
      "source": [
        "import pandas as pd"
      ],
      "metadata": {
        "id": "rAiY25Ov5aME"
      },
      "execution_count": 43,
      "outputs": []
    },
    {
      "cell_type": "code",
      "source": [
        "from rake_nltk import Rake\n",
        "from nltk.tokenize import word_tokenize\n",
        "from nltk.corpus import stopwords\n",
        "from moviepy.editor import VideoFileClip\n",
        "from datetime import timedelta\n",
        "\n",
        "r = Rake()\n",
        "# apply RAKE to the transcript\n",
        "r.extract_keywords_from_text(transcript)\n",
        "\n",
        "# get the top 10 keywords\n",
        "keywords = r.get_ranked_phrases_with_scores()[:10]\n",
        "\n",
        "KEYWORDS = [t[1] for t in keywords]\n",
        "print(KEYWORDS)\n",
        "\n",
        "\n",
        "# Load transcript\n",
        "with open('/content/drive/MyDrive/PROJECTS/video analysis/transcript.txt', 'r') as file:\n",
        "    transcript = file.read().replace('\\n', '')\n",
        "\n",
        "# Load video\n",
        "video = VideoFileClip('/content/drive/MyDrive/PROJECTS/video analysis/Video.mp4')\n",
        "\n",
        "\n",
        "timestamps = {}\n",
        "for keyword in KEYWORDS:\n",
        "    # Tokenize keyword\n",
        "    keyword_tokens = word_tokenize(keyword)\n",
        "\n",
        "    # Find time stamps\n",
        "    for idx, sentence in enumerate(transcript.split('.')):\n",
        "        if all(token.lower() in sentence.lower() for token in keyword_tokens):\n",
        "            time_in_seconds = video.duration / len(transcript.split('.')) * idx\n",
        "            timestamps[keyword] = str(timedelta(seconds=time_in_seconds))\n",
        "\n",
        "# Convert to pandas DataFrame\n",
        "df = pd.DataFrame.from_dict(timestamps, orient='index', columns=['time'])\n",
        "df.index.name = 'keyword'\n",
        "\n",
        "# Sort DataFrame by time\n",
        "df = df.sort_values('time')\n",
        "\n",
        "print(df)\n"
      ],
      "metadata": {
        "id": "mNxcJQx7U_I7",
        "colab": {
          "base_uri": "https://localhost:8080/"
        },
        "outputId": "3f3e4dd4-8d4a-40bc-ef7d-260b88944803"
      },
      "execution_count": 44,
      "outputs": [
        {
          "output_type": "stream",
          "name": "stdout",
          "text": [
            "['pacific ocean look like 80 million years ago', '000 years ago left bits', '9 earthquake caused significant shaking', 'san andreas fault system began', 'atlantic ocean spread north america', '25 million years ago', 'seafloor spreading divergent plate boundaries', 'past 80 million years', 'oceanic crust leading edge collides', 'ocean ridge seafloor spreading center']\n",
            "                                                         time\n",
            "keyword                                                      \n",
            "oceanic crust leading edge collides            0:00:59.426813\n",
            "9 earthquake caused significant shaking        0:03:27.993846\n",
            "pacific ocean look like 80 million years ago   0:03:50.278901\n",
            "ocean ridge seafloor spreading center          0:03:50.278901\n",
            "past 80 million years                          0:04:05.135604\n",
            "atlantic ocean spread north america            0:04:12.563956\n",
            "25 million years ago                           0:04:27.420659\n",
            "san andreas fault system began                 0:04:42.277363\n",
            "seafloor spreading divergent plate boundaries  0:07:03.416044\n",
            "000 years ago left bits                        0:07:40.557802\n"
          ]
        }
      ]
    },
    {
      "cell_type": "code",
      "source": [],
      "metadata": {
        "id": "jupIR28tMmx4"
      },
      "execution_count": null,
      "outputs": []
    }
  ]
}